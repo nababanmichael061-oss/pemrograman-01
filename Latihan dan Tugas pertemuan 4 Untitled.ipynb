{
  "nbformat": 4,
  "nbformat_minor": 0,
  "metadata": {
    "colab": {
      "provenance": [],
      "authorship_tag": "ABX9TyMRWlVxazUXG3OSM1EaXkao",
      "include_colab_link": true
    },
    "kernelspec": {
      "name": "python3",
      "display_name": "Python 3"
    },
    "language_info": {
      "name": "python"
    }
  },
  "cells": [
    {
      "cell_type": "markdown",
      "metadata": {
        "id": "view-in-github",
        "colab_type": "text"
      },
      "source": [
        "<a href=\"https://colab.research.google.com/github/nababanmichael061-oss/pemrograman-01/blob/main/Latihan%20dan%20Tugas%20pertemuan%204%20Untitled.ipynb\" target=\"_parent\"><img src=\"https://colab.research.google.com/assets/colab-badge.svg\" alt=\"Open In Colab\"/></a>"
      ]
    },
    {
      "cell_type": "code",
      "execution_count": null,
      "metadata": {
        "colab": {
          "base_uri": "https://localhost:8080/"
        },
        "id": "cur3sp5s6znV",
        "outputId": "aa1ade04-292f-44a1-fbfb-ae06af39a85b"
      },
      "outputs": [
        {
          "output_type": "stream",
          "name": "stdout",
          "text": [
            "Masukkan sebuah angka: 20\n",
            "20 adalah kelipatan 5\n"
          ]
        }
      ],
      "source": [
        "#Latihan\n",
        "# 1.menentukan kelipatan 5\n",
        "angka = int(input(\"Masukkan sebuah angka: \"))\n",
        "\n",
        "if angka % 5 == 0:\n",
        "    print(f\"{angka} adalah kelipatan 5\")\n",
        "\n",
        "else:\n",
        "    print(f\"{angka} bukan kelipatan 5\")"
      ]
    },
    {
      "cell_type": "code",
      "source": [
        "# 2.menentukan tahun kabisat\n",
        "tahun = int(input(\"Masukkan tahun: \"))\n",
        "\n",
        "if tahun % 400 == 0:\n",
        "    print(f\"{tahun} adalah tahun kabisat\")\n",
        "elif tahun % 100 == 0:\n",
        "    print(f\"{tahun} bukan tahun kabisat\")\n",
        "elif tahun % 4 == 0:\n",
        "    print(f\"{tahun} adalah tahun kabisat\")\n",
        "else:\n",
        "    print(f\"{tahun} bukan tahun kabisat\")"
      ],
      "metadata": {
        "colab": {
          "base_uri": "https://localhost:8080/"
        },
        "id": "W8jZariW71Aw",
        "outputId": "4c921011-d3b5-4223-cb34-c87bd9dd7f8a"
      },
      "execution_count": 4,
      "outputs": [
        {
          "output_type": "stream",
          "name": "stdout",
          "text": [
            "Masukkan tahun: 2000\n",
            "2000 adalah tahun kabisat\n"
          ]
        }
      ]
    },
    {
      "cell_type": "code",
      "source": [
        "# 3.soal matematika sederhana\n",
        "\n",
        "print(\"=== Soal Matematika ===\")\n",
        "print(\"Jawablah pertanyaan berikut:\")\n",
        "\n",
        "# Soal\n",
        "jawaban = int(input(\"Berapakah hasil dari 8 + 5 ? \"))\n",
        "\n",
        "# Cek jawaban\n",
        "if jawaban == 13:\n",
        "    print(\"Benar Jawaban kamu tepat.\")\n",
        "else:\n",
        "    print(\"Salah Jawaban yang benar adalah 13.\")"
      ],
      "metadata": {
        "colab": {
          "base_uri": "https://localhost:8080/"
        },
        "id": "rXp9nAOk9KJC",
        "outputId": "9a4f2976-b72f-49e3-8129-ab13f825cd6e"
      },
      "execution_count": null,
      "outputs": [
        {
          "output_type": "stream",
          "name": "stdout",
          "text": [
            "=== Soal Matematika ===\n",
            "Jawablah pertanyaan berikut:\n",
            "Berapakah hasil dari 8 + 5 ? 13\n",
            "Benar Jawaban kamu tepat.\n"
          ]
        }
      ]
    },
    {
      "cell_type": "code",
      "source": [
        "# 4.menampilkan nama bulan\n",
        "\n",
        "bulan = int(input(\"Masukkan angka bulan (1-12): \"))\n",
        "\n",
        "if bulan == 1:\n",
        "    print(\"Januari\")\n",
        "elif bulan == 2:\n",
        "    print(\"Februari\")\n",
        "elif bulan == 3:\n",
        "    print(\"Maret\")\n",
        "elif bulan == 4:\n",
        "    print(\"April\")\n",
        "elif bulan == 5:\n",
        "    print(\"Mei\")\n",
        "elif bulan == 6:\n",
        "    print(\"Juni\")\n",
        "elif bulan == 7:\n",
        "    print(\"Juli\")\n",
        "elif bulan == 8:\n",
        "    print(\"Agustus\")\n",
        "elif bulan == 9:\n",
        "    print(\"September\")\n",
        "elif bulan == 10:\n",
        "    print(\"Oktober\")\n",
        "elif bulan == 11:\n",
        "    print(\"November\")\n",
        "elif bulan == 12:\n",
        "    print(\"Desember\")\n",
        "else:\n",
        "    print(\"Angka bulan tidak valid! Harus 1-12.\")"
      ],
      "metadata": {
        "colab": {
          "base_uri": "https://localhost:8080/"
        },
        "id": "bfF5Fwuu9rp4",
        "outputId": "aa57fc0d-2e55-4377-d109-942161c8a4ab"
      },
      "execution_count": null,
      "outputs": [
        {
          "output_type": "stream",
          "name": "stdout",
          "text": [
            "Masukkan angka bulan (1-12): 9\n",
            "September\n"
          ]
        }
      ]
    },
    {
      "cell_type": "code",
      "source": [
        "# 5.menampilkan salam berdasarkan jam\n",
        "\n",
        "jam = int(input(\"Masukkan jam (0-23): \"))\n",
        "\n",
        "if 0 <= jam <= 11:\n",
        "    print(\"Selamat Pagi\")\n",
        "elif 12 <= jam <= 15:\n",
        "    print(\"Selamat Siang\")\n",
        "elif 16 <= jam <= 18:\n",
        "    print(\"Selamat Sore\")\n",
        "elif 19 <= jam <= 23:\n",
        "    print(\"Selamat Malam\")\n",
        "else:\n",
        "    print(\"Jam tidak valid! Harus 0-23.\")"
      ],
      "metadata": {
        "colab": {
          "base_uri": "https://localhost:8080/"
        },
        "id": "oq6xWUkm-Mbe",
        "outputId": "b25eb397-b8b4-4c22-e34d-158e0f8b0642"
      },
      "execution_count": null,
      "outputs": [
        {
          "output_type": "stream",
          "name": "stdout",
          "text": [
            "Masukkan jam (0-23): 22\n",
            "Selamat Malam\n"
          ]
        }
      ]
    },
    {
      "cell_type": "code",
      "source": [
        "# ===========================================\n",
        "#            Kasir Kafe Gemini\n",
        "# ===========================================\n",
        "\n",
        "print(\"=\"*45)\n",
        "print(\"        SELAMAT DATANG DI KAFE GEMINI\")\n",
        "print(\"=\"*45)\n",
        "\n",
        "print(\"Menu Makanan & Minuman:\")\n",
        "print(\"1. Kopi Hitam     → Rp 12.000\")\n",
        "print(\"2. Teh Manis      → Rp 8.000\")\n",
        "print(\"3. Roti Bakar     → Rp 15.000\")\n",
        "print(\"4. Mie Instan     → Rp 10.000\")\n",
        "print(\"-\"*45)\n",
        "\n",
        "# Input pilihan menu\n",
        "pilihan = int(input(\"Masukkan nomor pilihan Anda (1-4): \"))\n",
        "nama_pesanan = \"\"\n",
        "harga = 0\n",
        "\n",
        "# Menentukan harga sesuai pilihan\n",
        "if pilihan == 1:\n",
        "    nama_pesanan = \"Kopi Hitam\"\n",
        "    harga = 12000\n",
        "elif pilihan == 2:\n",
        "    nama_pesanan = \"Teh Manis\"\n",
        "    harga = 8000\n",
        "elif pilihan == 3:\n",
        "    nama_pesanan = \"Roti Bakar\"\n",
        "    harga = 15000\n",
        "elif pilihan == 4:\n",
        "    nama_pesanan = \"Mie Instan\"\n",
        "    harga = 10000\n",
        "else:\n",
        "    print(\"Pilihan tidak valid.\")\n",
        "\n",
        "\n",
        "# Input jumlah pembelian\n",
        "jumlah = int(input(f\"Masukkan jumlah {nama_pesanan} yang ingin dibeli: \"))\n",
        "total = harga * jumlah\n",
        "\n",
        "# Menentukan diskon berdasarkan total belanja\n",
        "if total >= 100000:\n",
        "    persen_diskon = 70\n",
        "elif total >= 50000:\n",
        "    persen_diskon = 50\n",
        "elif total >= 30000:\n",
        "    persen_diskon = 30\n",
        "else:\n",
        "    persen_diskon = 0\n",
        "\n",
        "# Hitung diskon dan total bayar akhir\n",
        "potongan = total * (persen_diskon / 100)\n",
        "total_bayar = total - potongan\n",
        "\n",
        "# Tampilkan rincian pembelian\n",
        "print(\"\\n\" + \"=\"*45)\n",
        "print(\"          RINCIAN PEMBELIAN\")\n",
        "print(\"=\"*45)\n",
        "print(f\"Pesanan Anda     : {nama_pesanan}\")\n",
        "print(f\"Jumlah           : {jumlah}\")\n",
        "print(f\"Harga Satuan     : Rp {harga:,}\")\n",
        "print(f\"Total Harga      : Rp {total:,}\")\n",
        "print(f\"Diskon ({persen_diskon}%)   : Rp {int(potongan):,}\")\n",
        "print(f\"Total Bayar Akhir: Rp {int(total_bayar):,}\")\n",
        "print(\"=\"*45)\n",
        "\n",
        "# Input pembayaran\n",
        "uang_dibayar = int(input(\"Masukkan jumlah uang Anda: Rp \"))\n",
        "\n",
        "# Hitung kembalian atau kekurangan\n",
        "if uang_dibayar >= total_bayar:\n",
        "    kembalian = uang_dibayar - total_bayar\n",
        "    print(f\"Transaksi berhasil!\")\n",
        "    print(f\"Kembalian Anda   : Rp {int(kembalian):,}\")\n",
        "    print(\"Terima kasih telah berbelanja di Kafe Gemini\")\n",
        "else:\n",
        "    kekurangan = total_bayar - uang_dibayar\n",
        "    print(f\"Uang Anda kurang Rp {int(kekurangan):,}\")\n",
        "    print(\"Silakan tambahkan uang untuk menyelesaikan transaksi.\")\n",
        "\n",
        "print(\"=\"*45)\n"
      ],
      "metadata": {
        "id": "TVndB6SeIV2S",
        "colab": {
          "base_uri": "https://localhost:8080/"
        },
        "outputId": "819a9057-de89-436e-d66e-355f13885a89"
      },
      "execution_count": 5,
      "outputs": [
        {
          "output_type": "stream",
          "name": "stdout",
          "text": [
            "=============================================\n",
            "        SELAMAT DATANG DI KAFE GEMINI\n",
            "=============================================\n",
            "Menu Makanan & Minuman:\n",
            "1. Kopi Hitam     → Rp 12.000\n",
            "2. Teh Manis      → Rp 8.000\n",
            "3. Roti Bakar     → Rp 15.000\n",
            "4. Mie Instan     → Rp 10.000\n",
            "---------------------------------------------\n",
            "Masukkan nomor pilihan Anda (1-4): 3\n",
            "Masukkan jumlah Roti Bakar yang ingin dibeli: 6\n",
            "\n",
            "=============================================\n",
            "          RINCIAN PEMBELIAN\n",
            "=============================================\n",
            "Pesanan Anda     : Roti Bakar\n",
            "Jumlah           : 6\n",
            "Harga Satuan     : Rp 15,000\n",
            "Total Harga      : Rp 90,000\n",
            "Diskon (50%)   : Rp 45,000\n",
            "Total Bayar Akhir: Rp 45,000\n",
            "=============================================\n",
            "Masukkan jumlah uang Anda: Rp 100000\n",
            "Transaksi berhasil!\n",
            "Kembalian Anda   : Rp 55,000\n",
            "Terima kasih telah berbelanja di Kafe Gemini\n",
            "=============================================\n"
          ]
        }
      ]
    }
  ]
}