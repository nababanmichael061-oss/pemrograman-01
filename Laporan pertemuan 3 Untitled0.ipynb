{
  "nbformat": 4,
  "nbformat_minor": 0,
  "metadata": {
    "colab": {
      "provenance": [],
      "authorship_tag": "ABX9TyP/xZ6LUck3gii7wbX6RKZl",
      "include_colab_link": true
    },
    "kernelspec": {
      "name": "python3",
      "display_name": "Python 3"
    },
    "language_info": {
      "name": "python"
    }
  },
  "cells": [
    {
      "cell_type": "markdown",
      "metadata": {
        "id": "view-in-github",
        "colab_type": "text"
      },
      "source": [
        "<a href=\"https://colab.research.google.com/github/nababanmichael061-oss/pemrograman-01/blob/main/Laporan%20pertemuan%203%20Untitled0.ipynb\" target=\"_parent\"><img src=\"https://colab.research.google.com/assets/colab-badge.svg\" alt=\"Open In Colab\"/></a>"
      ]
    },
    {
      "cell_type": "code",
      "execution_count": null,
      "metadata": {
        "colab": {
          "base_uri": "https://localhost:8080/"
        },
        "id": "1HbdxQK3m7ft",
        "outputId": "b6c812ae-d496-4df0-ad80-60e5f7d9f669"
      },
      "outputs": [
        {
          "name": "stdout",
          "output_type": "stream",
          "text": [
            "Berapa porsi makan yang anda beli? : 10\n",
            "Siapa nama pelanggan? :Michael\n"
          ]
        }
      ],
      "source": [
        "#Praktikum\n",
        "total = float(input(\"Berapa porsi makan yang anda beli? : \"))\n",
        "\n",
        "Name = str (input(\"Siapa nama pelanggan? :\"))"
      ]
    },
    {
      "cell_type": "code",
      "source": [
        "food = \"mie ayam bakso\"\n",
        "jumlah = 3\n",
        "harga = 10000\n",
        "total = jumlah * harga\n",
        "\n",
        "print(\"Michael sedang memesan %s\" % (food))\n",
        "print(\"jumlah pesanan = %d porsi\" % (jumlah))\n",
        "print(\"harga per porsi = Rp %d\" % (harga))\n",
        "print(\"total bayar = Rp %.0f\" % (total))\n",
        "print(\"total bayar (hex) = %x\" % (total))\n",
        "print(\"total bayar (oktal) = %o\" % (total))"
      ],
      "metadata": {
        "id": "D7YzoOVSyvd4",
        "outputId": "07e30f10-ae67-4851-efa7-0b0f1895d588",
        "colab": {
          "base_uri": "https://localhost:8080/"
        }
      },
      "execution_count": null,
      "outputs": [
        {
          "output_type": "stream",
          "name": "stdout",
          "text": [
            "Michael sedang memesan mie ayam bakso\n",
            "jumlah pesanan = 3 porsi\n",
            "harga per porsi = Rp 10000\n",
            "total bayar = Rp 30000\n",
            "total bayar (hex) = 7530\n",
            "total bayar (oktal) = 72460\n"
          ]
        }
      ]
    },
    {
      "cell_type": "code",
      "source": [
        "jumlah = int(input(\"masukkan jumlah porsi:\"))\n",
        "harga = float(input(\"masukkan harga per porsi (ribuan):\"))\n",
        "food = input(\"masukkan nama makanan:\")\n",
        "angka = int(input(\"masukkan angka:\"))\n",
        "\n",
        "\n",
        "#output\n",
        "print(\"Michael membeli %d porsi %s\" % (jumlah, food))\n",
        "print(\"Harga per porsi adalah %.0f (ribuan) rupiah\" % (harga))\n",
        "print(\"angka %d dalam heksadesimal adalah %x\" % (angka, angka))\n",
        "print(\"angka %d dalam oktal adalah %o\" % (angka, angka))"
      ],
      "metadata": {
        "colab": {
          "base_uri": "https://localhost:8080/"
        },
        "id": "7Zm-Xprho4_3",
        "outputId": "78aa6bda-34bd-4434-d2c7-92f4d52e736c"
      },
      "execution_count": null,
      "outputs": [
        {
          "output_type": "stream",
          "name": "stdout",
          "text": [
            "masukkan jumlah porsi:5\n",
            "masukkan harga per porsi (ribuan):15000\n",
            "masukkan nama makanan:nasi goreng\n",
            "masukkan angka:25\n",
            "Michael membeli 5 porsi nasi goreng\n",
            "Harga per porsi adalah 15000 (ribuan) rupiah\n",
            "angka 25 dalam heksadesimal adalah 19\n",
            "angka 25 dalam oktal adalah 31\n"
          ]
        }
      ]
    },
    {
      "cell_type": "code",
      "source": [
        "#kalkulator sederhana\n",
        "ayam_geprek = 24000\n",
        "mie_kwetiaw = 17000\n",
        "\n",
        "print(\"harga ayam geprek dan mie kwetiaw:\", ayam_geprek + mie_kwetiaw)\n",
        "print(\"selisih harga ayam geprek dan mie kwetiaw:\", ayam_geprek - mie_kwetiaw)\n",
        "print(\"jumlah perkalian ayam geprek dan mie kwetiaw:\", ayam_geprek * mie_kwetiaw)\n",
        "print(\"pembagian ayam geprek dan mie kwetiaw:\", ayam_geprek / mie_kwetiaw)\n",
        "\n"
      ],
      "metadata": {
        "colab": {
          "base_uri": "https://localhost:8080/"
        },
        "id": "yyXm0qvk6lbd",
        "outputId": "6fabcbca-e95c-4419-d877-05c598b0248a"
      },
      "execution_count": null,
      "outputs": [
        {
          "output_type": "stream",
          "name": "stdout",
          "text": [
            "harga ayam geprek dan mie kwetiaw: 41000\n",
            "selisih harga ayam geprek dan mie kwetiaw: 7000\n",
            "jumlah perkalian ayam geprek dan mie kwetiaw: 408000000\n",
            "pembagian ayam geprek dan mie kwetiaw: 1.411764705882353\n"
          ]
        }
      ]
    },
    {
      "cell_type": "code",
      "source": [
        "#kalkulator kasir\n",
        "\n",
        "harga_makan = int(input(\"berapa harga ayam geprek per porsi?\"))\n",
        "jumlah_makan = int(input(\"berapa porsi yang anda beli?\"))\n",
        "total_makan = harga_makan * jumlah_makan\n",
        "\n",
        "print(f\"Harga makan per porsi = {harga_makan}\")\n",
        "print(f\"jumlah makan = {jumlah_makan}\")\n",
        "print(f\"total makan = {total_makan}\")"
      ],
      "metadata": {
        "colab": {
          "base_uri": "https://localhost:8080/"
        },
        "id": "GMJ1KydDAGSj",
        "outputId": "8fe489f3-86be-42ec-8cf5-ad6045ecf010"
      },
      "execution_count": null,
      "outputs": [
        {
          "output_type": "stream",
          "name": "stdout",
          "text": [
            "berapa harga ayam geprek per porsi?24000\n",
            "berapa porsi yang anda beli?5\n",
            "Harga makan per porsi = 24000\n",
            "jumlah makan = 5\n",
            "total makan = 120000\n"
          ]
        }
      ]
    },
    {
      "cell_type": "code",
      "source": [
        "#mengecek bilangan\n",
        "\n",
        "bilangan = 8\n",
        "hasil = (bilangan >0) and (bilangan %2 == 0)\n",
        "\n",
        "print(\"genap dan positif?\", hasil)\n"
      ],
      "metadata": {
        "colab": {
          "base_uri": "https://localhost:8080/"
        },
        "id": "e-enccOzAaBx",
        "outputId": "ecf8baa6-00fe-451f-ea57-f4681d84621f"
      },
      "execution_count": 1,
      "outputs": [
        {
          "output_type": "stream",
          "name": "stdout",
          "text": [
            "genap dan positif? True\n"
          ]
        }
      ]
    },
    {
      "cell_type": "code",
      "source": [
        "#mengkonversi waktu\n",
        "total_detik = int(input(\"total detik:\"))\n",
        "jam = total_detik // 3600\n",
        "sisa_detik = total_detik % 3600\n",
        "menit = sisa_detik // 60\n",
        "detik = sisa_detik % 60\n",
        "\n",
        "print(f\"hasil konversi: {jam} jam, {menit} menit, {detik} detik\")"
      ],
      "metadata": {
        "colab": {
          "base_uri": "https://localhost:8080/"
        },
        "id": "ZphVJ2KGLAff",
        "outputId": "25d7c632-60ad-4b4c-af5b-cf08ffaae37b"
      },
      "execution_count": null,
      "outputs": [
        {
          "output_type": "stream",
          "name": "stdout",
          "text": [
            "total detik:358200\n",
            "hasil konversi: 99 jam, 30 menit, 0 detik\n"
          ]
        }
      ]
    },
    {
      "cell_type": "code",
      "source": [
        "#menghitung nilai mahasiswa\n",
        "# Input nilai\n",
        "tugas = int(input(\"Nilai Tugas: \"))\n",
        "quiz = int(input(\"Nilai Quiz: \"))\n",
        "ats = int(input(\"Nilai ATS: \"))\n",
        "aas = int(input(\"Nilai AAS: \"))\n",
        "\n",
        "# Input standar kelulusan\n",
        "standar_kelulusan = int(input(\"standar kelulusan: \"))\n",
        "\n",
        "# nilai mahasiswa dari nilai akhir\n",
        "nilai_mahasiswa = nilai_akhir\n",
        "\n",
        "# Cek kelulusan\n",
        "apakah_lulus = nilai_mahasiswa >= standar_kelulusan\n",
        "perlu_remedial = not(apakah_lulus)\n",
        "\n",
        "print(f\"Nilai Mahasiswa: {nilai_mahasiswa}\")\n",
        "print(f\"Standar Kelulusan: {standar_kelulusan}\")\n",
        "print(f\"Apakah Mahasiswa lulus? {apakah_lulus}\")\n",
        "print(f\"Perlu Remedial? {perlu_remedial}\")"
      ],
      "metadata": {
        "colab": {
          "base_uri": "https://localhost:8080/"
        },
        "id": "i1VDmBP2kQOK",
        "outputId": "8cb567f3-6247-4dde-ce51-5a3aad6d868a"
      },
      "execution_count": null,
      "outputs": [
        {
          "output_type": "stream",
          "name": "stdout",
          "text": [
            "Nilai Tugas: 85\n",
            "Nilai Quiz: 83\n",
            "Nilai ATS: 90\n",
            "Nilai AAS: 88\n",
            "standar kelulusan: 80\n",
            "Nilai Mahasiswa: 86.4\n",
            "Standar Kelulusan: 80\n",
            "Apakah Mahasiswa lulus? True\n",
            "Perlu Remedial? False\n"
          ]
        }
      ]
    },
    {
      "cell_type": "code",
      "source": [
        "#menghitung harga diskon\n",
        "belanja = int(input(\"total belanja: \"))\n",
        "\n",
        "diskon = (belanja > 1000000) * (0.35 * belanja) + \\\n",
        "         ((belanja > 500000) and (belanja <= 1000000)) * (0.1 * belanja)\n",
        "\n",
        "total_harga = belanja - diskon\n",
        "print(\"diskon  :\", diskon)\n",
        "print(\"Total harga setelah diskon =\", total_harga)"
      ],
      "metadata": {
        "colab": {
          "base_uri": "https://localhost:8080/"
        },
        "id": "yOeM9FsnJz89",
        "outputId": "a6b205c8-e855-401d-9884-53e3fb61c9c6"
      },
      "execution_count": null,
      "outputs": [
        {
          "output_type": "stream",
          "name": "stdout",
          "text": [
            "total belanja: 1200000\n",
            "diskon  : 420000.0\n",
            "Total harga setelah diskon = 780000.0\n"
          ]
        }
      ]
    },
    {
      "cell_type": "code",
      "source": [
        "#Latihan soal No 1\n",
        "tahun = int(input(\"Tahun: \"))\n",
        "\n",
        "pesan = {\n",
        "    True: f\"Tahun {tahun} adalah tahun kabisat\",\n",
        "    False: f\"Tahun {tahun} bukan tahun kabisat\"\n",
        "}\n",
        "\n",
        "print(pesan[(tahun % 4 == 0 and tahun % 100 != 0) or (tahun % 400 == 0)])"
      ],
      "metadata": {
        "colab": {
          "base_uri": "https://localhost:8080/"
        },
        "id": "3h5R1Xqe-cr_",
        "outputId": "cd06812e-a647-4ed5-83ea-efeda0a37877"
      },
      "execution_count": null,
      "outputs": [
        {
          "output_type": "stream",
          "name": "stdout",
          "text": [
            "Tahun: 2024\n",
            "Tahun 2024 adalah tahun kabisat\n"
          ]
        }
      ]
    },
    {
      "cell_type": "code",
      "source": [
        "#Latihan soal No 2\n",
        "# Input\n",
        "nama = input(\"Nama pelanggan: \")\n",
        "makanan = input(\"Nama makanan: \")\n",
        "harga = float(input(f\"Harga {makanan}: Rp \"))\n",
        "jumlah = int(input(f\"Jumlah {makanan} yang dibeli: \"))\n",
        "\n",
        "# Operasi aritmatika (total bayar)\n",
        "total = harga * jumlah\n",
        "\n",
        "# Output\n",
        "print(\"\\n===== STRUK PEMBELIAN =====\")\n",
        "print(f\"Pelanggan   : {nama}\")\n",
        "print(f\"Makanan     : {makanan}\")\n",
        "print(f\"Harga       : Rp {harga:,.0f}\")\n",
        "print(f\"Jumlah      : {jumlah}\")\n",
        "print(f\"Total Bayar : Rp {total:,.0f}\")\n",
        "print(\"============================\")\n",
        "print(\"Terima kasih sudah berbelanja!\")"
      ],
      "metadata": {
        "colab": {
          "base_uri": "https://localhost:8080/"
        },
        "id": "GYY3zPH-8a6w",
        "outputId": "dd8392c6-58ca-4d9a-c3e9-5ef57982c70d"
      },
      "execution_count": null,
      "outputs": [
        {
          "output_type": "stream",
          "name": "stdout",
          "text": [
            "Nama pelanggan: Michael\n",
            "Nama makanan: kepiting saos\n",
            "Harga kepiting saos: Rp 175000\n",
            "Jumlah kepiting saos yang dibeli: 2\n",
            "\n",
            "===== STRUK PEMBELIAN =====\n",
            "Pelanggan   : Michael\n",
            "Makanan     : kepiting saos\n",
            "Harga       : Rp 175,000\n",
            "Jumlah      : 2\n",
            "Total Bayar : Rp 350,000\n",
            "============================\n",
            "Terima kasih sudah berbelanja!\n"
          ]
        }
      ]
    },
    {
      "cell_type": "code",
      "source": [
        "#Tugas\n",
        "# Input data\n",
        "nama = input(\"Nama pelanggan: \")\n",
        "subtotal = float(input(\"Total belanja: Rp \"))\n",
        "member = input(\"Apakah Anda member? (ya/tidak): \").lower()\n",
        "# evaluasi diskon\n",
        "diskon = subtotal * 0.15 * (member == \"ya\") * (subtotal > 100000)\n",
        "# Harga setelah diskon\n",
        "harga_setelah_diskon = subtotal - diskon\n",
        "# Hitung PPN 11%\n",
        "ppn = harga_setelah_diskon * 0.11\n",
        "# Hitung total akhir\n",
        "total_akhir = harga_setelah_diskon + ppn\n",
        "# Output hasil\n",
        "print(\"\\n===== STRUK PEMBAYARAN =====\")\n",
        "print(f\"Pelanggan         : {nama}\")\n",
        "print(f\"Subtotal          : Rp {subtotal:,.0f}\")\n",
        "print(f\"Diskon (15%)      : Rp {diskon:,.0f}\")\n",
        "print(f\"Harga setelah diskon : Rp {harga_setelah_diskon:,.0f}\")\n",
        "print(f\"PPN (11%)         : Rp {ppn:,.0f}\")\n",
        "print(f\"TOTAL AKHIR       : Rp {total_akhir:,.0f}\")\n",
        "print(\"=============================\")\n",
        "print(\"Terima kasih sudah berbelanja!\")"
      ],
      "metadata": {
        "colab": {
          "base_uri": "https://localhost:8080/"
        },
        "id": "zmvEGjd357tK",
        "outputId": "ac9133da-a451-4b3e-b0b2-f2568af1ec84"
      },
      "execution_count": null,
      "outputs": [
        {
          "output_type": "stream",
          "name": "stdout",
          "text": [
            "Nama pelanggan:  Michael\n",
            "Total belanja: Rp 175000\n",
            "Apakah Anda member? (ya/tidak): ya\n",
            "\n",
            "===== STRUK PEMBAYARAN =====\n",
            "Pelanggan         :  Michael\n",
            "Subtotal          : Rp 175,000\n",
            "Diskon (15%)      : Rp 26,250\n",
            "Harga setelah diskon : Rp 148,750\n",
            "PPN (11%)         : Rp 16,362\n",
            "TOTAL AKHIR       : Rp 165,112\n",
            "=============================\n",
            "Terima kasih sudah berbelanja!\n"
          ]
        }
      ]
    }
  ]
}