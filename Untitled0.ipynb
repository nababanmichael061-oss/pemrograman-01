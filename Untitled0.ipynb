{
  "nbformat": 4,
  "nbformat_minor": 0,
  "metadata": {
    "colab": {
      "provenance": [],
      "authorship_tag": "ABX9TyMh4q5Spfc/YKsq+oJywvSY",
      "include_colab_link": true
    },
    "kernelspec": {
      "name": "python3",
      "display_name": "Python 3"
    },
    "language_info": {
      "name": "python"
    }
  },
  "cells": [
    {
      "cell_type": "markdown",
      "metadata": {
        "id": "view-in-github",
        "colab_type": "text"
      },
      "source": [
        "<a href=\"https://colab.research.google.com/github/nababanmichael061-oss/pemrograman-01/blob/main/Untitled0.ipynb\" target=\"_parent\"><img src=\"https://colab.research.google.com/assets/colab-badge.svg\" alt=\"Open In Colab\"/></a>"
      ]
    },
    {
      "cell_type": "code",
      "execution_count": 41,
      "metadata": {
        "colab": {
          "base_uri": "https://localhost:8080/"
        },
        "id": "jc828q36NBIn",
        "outputId": "75635595-f41c-49c9-fbe9-e393dc5fd0d1"
      },
      "outputs": [
        {
          "output_type": "stream",
          "name": "stdout",
          "text": [
            "list: ['Michael Rafael Nababan', 18, 'Teknik Elektro', 'Berenang', 'mahasiswa', 'Politeknik negeri batam']\n",
            "tuple: ('Michael Rafael Nababan', 18, 'Teknik Elektro', 'Berenang', 'mahasiswa', 'Politeknik negeri batam')\n",
            "set: {'Michael Rafael Nababan', 'Teknik Elektro', 'mahasiswa', 'Berenang', 'Politeknik negeri batam', 18}\n",
            "dict: {'nama': 'Michael Rafael Nababan', 'umur': 18, 'jurusan': 'Teknik Elektro', 'hobi': 'Berenang', 'status': 'mahasiswa', 'universitas': 'Politeknik negeri batam'}\n"
          ]
        }
      ],
      "source": [
        "# Biodata Saya\n",
        "\n",
        "nama = \"Michael Rafael Nababan\"\n",
        "umur = 18\n",
        "jurusan = \"Teknik Elektro\"\n",
        "hobi = \"Berenang\"\n",
        "status = \"mahasiswa\"\n",
        "universitas = \"Politeknik negeri batam\"\n",
        "\n",
        "\n",
        "biodata_list = [nama,umur,jurusan,hobi,status,universitas]\n",
        "biodata_tuple = (nama,umur,jurusan,hobi,status,universitas)\n",
        "biodata_set = {nama,umur,jurusan,hobi,status,universitas}\n",
        "biodata_dict = {\n",
        "    \"nama\":nama,\n",
        "    \"umur\":umur,\n",
        "    \"jurusan\":jurusan,\n",
        "    \"hobi\":hobi,\n",
        "    \"status\":status,\n",
        "    \"universitas\":universitas,\n",
        "    }\n",
        "\n",
        "#output\n",
        "print (\"list:\",biodata_list)\n",
        "print (\"tuple:\",biodata_tuple)\n",
        "print (\"set:\",biodata_set)\n",
        "print (\"dict:\",biodata_dict)"
      ]
    }
  ]
}