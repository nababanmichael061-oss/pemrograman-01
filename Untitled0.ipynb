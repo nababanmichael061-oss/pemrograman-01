{
  "nbformat": 4,
  "nbformat_minor": 0,
  "metadata": {
    "colab": {
      "provenance": [],
      "authorship_tag": "ABX9TyP6dZSRS0OeNs/D4UzTADJU",
      "include_colab_link": true
    },
    "kernelspec": {
      "name": "python3",
      "display_name": "Python 3"
    },
    "language_info": {
      "name": "python"
    }
  },
  "cells": [
    {
      "cell_type": "markdown",
      "metadata": {
        "id": "view-in-github",
        "colab_type": "text"
      },
      "source": [
        "<a href=\"https://colab.research.google.com/github/nababanmichael061-oss/pemrograman-01/blob/main/Untitled0.ipynb\" target=\"_parent\"><img src=\"https://colab.research.google.com/assets/colab-badge.svg\" alt=\"Open In Colab\"/></a>"
      ]
    },
    {
      "cell_type": "code",
      "execution_count": 22,
      "metadata": {
        "colab": {
          "base_uri": "https://localhost:8080/"
        },
        "id": "_KNOc1zx51kI",
        "outputId": "91167ebf-fbc5-44d2-bdfe-2ad86a3cb83f"
      },
      "outputs": [
        {
          "output_type": "stream",
          "name": "stdout",
          "text": [
            "list: ['Michael Rafael Nababan', 18, 'Teknik Elektro', 'Berenang', 'mahasiswa', 'Politeknik negeri batam']\n",
            "tuple: ('Michael Rafael Nababan', 18, 'Teknik Elektro', 'Berenang', 'mahasiswa', 'Politeknik negeri batam')\n",
            "set: {'Politeknik negeri batam', 18, 'mahasiswa', 'Berenang', 'Michael Rafael Nababan', 'Teknik Elektro'}\n",
            "dict: {'nama': 'Michael Rafael Nababan', 'umur': 18, 'jurusan': 'Teknik Elektro', 'nim': 4232401005, 'status': False, 'semester': 3}\n"
          ]
        }
      ],
      "source": [
        "#soal no 6\n",
        "# Biodata Saya\n",
        "\n",
        "# List\n",
        "biodata_list = [\"Michael Rafael Nababan\", 18, \"Teknik Elektro\", \"Berenang\", \"mahasiswa\", \"Politeknik negeri batam\"]\n",
        "# Tuple\n",
        "biodata_tuple = (\"Michael Rafael Nababan\", 18, \"Teknik Elektro\", \"Berenang\", \"mahasiswa\", \"Politeknik negeri batam\")\n",
        "# Set\n",
        "biodata_set = {\"Michael Rafael Nababan\", 18, \"Teknik Elektro\", \"Berenang\", \"mahasiswa\", \"Politeknik negeri batam\"}\n",
        "\n",
        "# Dictionary\n",
        "biodata_dict = {\n",
        "    \"nama\":\"Michael Rafael Nababan\",\n",
        "    \"umur\":18,\n",
        "    \"jurusan\":\"Teknik Elektro\",\n",
        "    \"nim\" : 4232401005,\n",
        "    \"status\": False,\n",
        "    \"semester\":3,\n",
        "}\n",
        "\n",
        "# Output\n",
        "print (\"list:\",biodata_list)\n",
        "print (\"tuple:\",biodata_tuple)\n",
        "print (\"set:\",biodata_set)\n",
        "print (\"dict:\",biodata_dict)"
      ]
    },
    {
      "cell_type": "markdown",
      "source": [],
      "metadata": {
        "id": "hi2Xi4vapANa"
      }
    },
    {
      "cell_type": "code",
      "source": [
        "#soal no 7\n",
        "#variabel dengan annotation\n",
        "\n",
        "nama:str=\"michael rafael nababan\"\n",
        "umur:int=18\n",
        "jurusan:str=\"teknik elektro\"\n",
        "nim :int =\"4232401005\"\n",
        "status:str= False\n",
        "semester:int=3\n",
        "\n",
        "#fungsi annotation\n",
        "def luas_persegi(sisi:float) -> float:\n",
        "  \"\"\"menghitung luas persegi berdasarkan panjang sisi.:\"\"\"\n",
        "  return sisi * sisi\n",
        "\n",
        "\n",
        "#output\n",
        "print(f\"nama:{nama}\")\n",
        "print(f\"umur:{umur}\")\n",
        "print(f\"jurusan:{jurusan}\")\n",
        "print(f\"nim:{nim}\")\n",
        "print(f\"status:{status}\")\n",
        "print(f\"semester:{semester}\")\n",
        "print(f\"luas_persegi(sisi 4.5): {luas_persegi(4.5)}\")"
      ],
      "metadata": {
        "colab": {
          "base_uri": "https://localhost:8080/"
        },
        "id": "sdGzWBN1pAiX",
        "outputId": "f67e91b3-d726-48b3-df3f-8323a8b7e6fb"
      },
      "execution_count": 24,
      "outputs": [
        {
          "output_type": "stream",
          "name": "stdout",
          "text": [
            "nama:michael rafael nababan\n",
            "umur:18\n",
            "jurusan:teknik elektro\n",
            "nim:4232401005\n",
            "status:False\n",
            "semester:3\n",
            "luas_persegi(sisi 4.5): 20.25\n"
          ]
        }
      ]
    }
  ]
}