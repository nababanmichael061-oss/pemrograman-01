{
  "nbformat": 4,
  "nbformat_minor": 0,
  "metadata": {
    "colab": {
      "provenance": [],
      "authorship_tag": "ABX9TyMh4q5Spfc/YKsq+oJywvSY",
      "include_colab_link": true
    },
    "kernelspec": {
      "name": "python3",
      "display_name": "Python 3"
    },
    "language_info": {
      "name": "python"
    }
  },
  "cells": [
    {
      "cell_type": "markdown",
      "metadata": {
        "id": "view-in-github",
        "colab_type": "text"
      },
      "source": [
        "<a href=\"https://colab.research.google.com/github/nababanmichael061-oss/pemrograman-01/blob/main/Untitled0.ipynb\" target=\"_parent\"><img src=\"https://colab.research.google.com/assets/colab-badge.svg\" alt=\"Open In Colab\"/></a>"
      ]
    },
    {
      "cell_type": "code",
      "execution_count": 1,
      "metadata": {
        "id": "_KNOc1zx51kI",
        "outputId": "79f3d483-0765-4122-d04f-dd90356af4a9",
        "colab": {
          "base_uri": "https://localhost:8080/"
        }
      },
      "outputs": [
        {
          "output_type": "stream",
          "name": "stdout",
          "text": [
            "list: ['Michael Rafael Nababan', 18, 'Teknik Elektro', 'Berenang', 'mahasiswa', 'Politeknik negeri batam']\n",
            "tuple: ('Michael Rafael Nababan', 18, 'Teknik Elektro', 'Berenang', 'mahasiswa', 'Politeknik negeri batam')\n",
            "set: {'Politeknik negeri batam', 'Teknik Elektro', 18, 'Berenang', 'mahasiswa', 'Michael Rafael Nababan'}\n",
            "dict: {'nama': 'Michael Rafael Nababan', 'umur': 18, 'jurusan': 'Teknik Elektro', 'hobi': 'Berenang', 'status': 'mahasiswa', 'universitas': 'Politeknik negeri batam'}\n"
          ]
        }
      ],
      "source": [
        "# Biodata Saya\n",
        "\n",
        "nama = \"Michael Rafael Nababan\"\n",
        "umur = 18\n",
        "jurusan = \"Teknik Elektro\"\n",
        "hobi = \"Berenang\"\n",
        "status = \"mahasiswa\"\n",
        "universitas = \"Politeknik negeri batam\"\n",
        "\n",
        "\n",
        "biodata_list = [nama,umur,jurusan,hobi,status,universitas]\n",
        "biodata_tuple = (nama,umur,jurusan,hobi,status,universitas)\n",
        "biodata_set = {nama,umur,jurusan,hobi,status,universitas}\n",
        "biodata_dict = {\n",
        "    \"nama\":nama,\n",
        "    \"umur\":umur,\n",
        "    \"jurusan\":jurusan,\n",
        "    \"hobi\":hobi,\n",
        "    \"status\":status,\n",
        "    \"universitas\":universitas,\n",
        "    }\n",
        "\n",
        "#output\n",
        "print (\"list:\",biodata_list)\n",
        "print (\"tuple:\",biodata_tuple)\n",
        "print (\"set:\",biodata_set)\n",
        "print (\"dict:\",biodata_dict)"
      ]
    }
  ]
}