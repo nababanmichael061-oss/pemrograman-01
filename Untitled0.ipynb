{
  "nbformat": 4,
  "nbformat_minor": 0,
  "metadata": {
    "colab": {
      "provenance": [],
      "authorship_tag": "ABX9TyOFCs1MCr/VDZU/iI9XNxNj",
      "include_colab_link": true
    },
    "kernelspec": {
      "name": "python3",
      "display_name": "Python 3"
    },
    "language_info": {
      "name": "python"
    }
  },
  "cells": [
    {
      "cell_type": "markdown",
      "metadata": {
        "id": "view-in-github",
        "colab_type": "text"
      },
      "source": [
        "<a href=\"https://colab.research.google.com/github/nababanmichael061-oss/pemrograman-01/blob/main/Untitled0.ipynb\" target=\"_parent\"><img src=\"https://colab.research.google.com/assets/colab-badge.svg\" alt=\"Open In Colab\"/></a>"
      ]
    },
    {
      "cell_type": "code",
      "execution_count": null,
      "metadata": {
        "colab": {
          "base_uri": "https://localhost:8080/"
        },
        "id": "jc828q36NBIn",
        "outputId": "c3fcd419-bb14-49fc-d969-933e5534f3d8"
      },
      "outputs": [
        {
          "output_type": "stream",
          "name": "stdout",
          "text": [
            "Michael Rafael Nababan\n",
            "18\n",
            "Teknik Elektro\n",
            "RPE\n",
            "3\n",
            "4232401005\n",
            "False\n",
            "batam, 29-09-2006\n",
            "kristen protestan\n",
            "+6281372004910\n",
            "michael.r.nbbn\n"
          ]
        }
      ],
      "source": [
        "# Biodata Saya\n",
        "\n",
        "nama = \"Michael Rafael Nababan\"\n",
        "umur = 18\n",
        "jurusan = 'Teknik Elektro'\n",
        "program_studi = \"RPE\"\n",
        "semester = 3\n",
        "nim = \"4232401005\"\n",
        "status_lulus = False\n",
        "tempat_tanggal_lahir = \"batam, 29-09-2006\"\n",
        "\n",
        "no_telepon = \"+6281372004910\"\n",
        "instagram = \"michael.r.nbbn\"\n",
        "\n",
        "\n",
        "print (nama)\n",
        "print (umur)\n",
        "print (jurusan)\n",
        "print (program_studi)\n",
        "print (semester)\n",
        "print (nim)\n",
        "print (status_lulus)\n",
        "print (tempat_tanggal_lahir)\n",
        "print (agama)\n",
        "print (no_telepon)\n",
        "print (instagram)\n",
        "\n"
      ]
    }
  ]
}