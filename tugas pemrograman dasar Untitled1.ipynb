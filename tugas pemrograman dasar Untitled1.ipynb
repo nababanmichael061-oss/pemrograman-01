{
  "nbformat": 4,
  "nbformat_minor": 0,
  "metadata": {
    "colab": {
      "provenance": [],
      "authorship_tag": "ABX9TyOEnYt3oR/yVjl1RFqTRMba",
      "include_colab_link": true
    },
    "kernelspec": {
      "name": "python3",
      "display_name": "Python 3"
    },
    "language_info": {
      "name": "python"
    }
  },
  "cells": [
    {
      "cell_type": "markdown",
      "metadata": {
        "id": "view-in-github",
        "colab_type": "text"
      },
      "source": [
        "<a href=\"https://colab.research.google.com/github/nababanmichael061-oss/pemrograman-01/blob/main/tugas%20pemrograman%20dasar%20Untitled1.ipynb\" target=\"_parent\"><img src=\"https://colab.research.google.com/assets/colab-badge.svg\" alt=\"Open In Colab\"/></a>"
      ]
    },
    {
      "cell_type": "code",
      "execution_count": 87,
      "metadata": {
        "colab": {
          "base_uri": "https://localhost:8080/"
        },
        "id": "UjVEjpFp60c2",
        "outputId": "090f559a-76fe-4301-ac61-70fd297210b8"
      },
      "outputs": [
        {
          "output_type": "stream",
          "name": "stdout",
          "text": [
            "First Name: Michael\n",
            "Last Name: Rafael\n",
            "Age: 18\n",
            "Married: False\n"
          ]
        }
      ],
      "source": [
        "#Tugas\n",
        "#buatlah variabel firstname, lastname, age, ismarried\n",
        "\n",
        "firstname = \"Michael\"      #string\n",
        "lastname = \"Rafael\"        #string\n",
        "age = 18                   #integer\n",
        "issmarried = False         #boolean\n",
        "\n",
        "#output data diri\n",
        "print (f\"First Name: {firstname}\")\n",
        "print (f\"Last Name: {lastname}\")\n",
        "print (f\"Age: {age}\")\n",
        "print (f\"Married: {issmarried}\")"
      ]
    },
    {
      "cell_type": "code",
      "source": [
        "#buatlah variabel dictionary dengan nama \"data_diri\"\n",
        "data_diri = {\n",
        "\n",
        "\"firstname\": \"Michael\",\n",
        "\"lastname\": \"Rafael\",\n",
        "\"age\": 20,\n",
        "\"issmarried\": False\n",
        " }\n",
        "\n",
        "#menampilkan isi variabel data_diri\n",
        "print (data_diri)\n",
        "\n",
        "\n"
      ],
      "metadata": {
        "colab": {
          "base_uri": "https://localhost:8080/"
        },
        "id": "P5G9m9ANCqRB",
        "outputId": "3541866e-ff5d-433d-b3d8-00ce33c358ee"
      },
      "execution_count": 88,
      "outputs": [
        {
          "output_type": "stream",
          "name": "stdout",
          "text": [
            "{'firstname': 'Michael', 'lastname': 'Rafael', 'age': 20, 'issmarried': False}\n"
          ]
        }
      ]
    },
    {
      "cell_type": "code",
      "source": [
        "#buatlah variabel inspeksi bertipe data list untuk menyimpan daftar inpeksi\n",
        "inspeksi = [\n",
        "\n",
        "\"pemahaman terhadap rencana dan desain\",\n",
        "\"ketersediaan bahan dan peralatan\",\n",
        "\"pengawasan pekerjaan\",\n",
        "\"kualitas konstruksi\",\n",
        "\"keselamatan kerja\",\n",
        "\"kordinasi dengan pemilih proyek\"\n",
        "]\n",
        "\n",
        "#menampilkan isi variabel inspeksi\n",
        "print (inspeksi)\n"
      ],
      "metadata": {
        "colab": {
          "base_uri": "https://localhost:8080/"
        },
        "id": "HU5MmevPK099",
        "outputId": "5e6e89c5-5bea-4ec7-851b-d1f2bc137160"
      },
      "execution_count": 89,
      "outputs": [
        {
          "output_type": "stream",
          "name": "stdout",
          "text": [
            "['pemahaman terhadap rencana dan desain', 'ketersediaan bahan dan peralatan', 'pengawasan pekerjaan', 'kualitas konstruksi', 'keselamatan kerja', 'kordinasi dengan pemilih proyek']\n"
          ]
        }
      ]
    },
    {
      "cell_type": "code",
      "source": [
        "#Data waktu\n",
        "star_time = {\n",
        "    \"HH\": 9,\n",
        "    \"MM\": 23,\n",
        "    \"SS\": 57\n",
        "}\n",
        "\n",
        "end_time = {\n",
        "    \"HH\": 15,\n",
        "    \"MM\": 25,\n",
        "    \"SS\": 43\n",
        "}\n",
        "\n",
        "#output format waktu\n",
        "print (f\"Start Time: {start_time[\"HH\"]}:{start_time[\"MM\"]}:{start_time[\"SS\"]}\")\n",
        "print (f\"End Time: {end_time[\"HH\"]}:{end_time[\"MM\"]}:{end_time[\"SS\"]}\")"
      ],
      "metadata": {
        "colab": {
          "base_uri": "https://localhost:8080/"
        },
        "id": "tGERIrlZa36_",
        "outputId": "87f851a8-64ac-4520-95b3-1e3bc46ffb44"
      },
      "execution_count": 90,
      "outputs": [
        {
          "output_type": "stream",
          "name": "stdout",
          "text": [
            "Start Time: 9:23:57\n",
            "End Time: 15:25:43\n"
          ]
        }
      ]
    },
    {
      "cell_type": "code",
      "source": [
        "#Data awal\n",
        "katalog_A = {\"Television\", \"kipas\", \"meja\"}\n",
        "katalog_B = {\"sofa\", \"kulkas\", \"lemari\"}\n",
        "produk_diskon = {\"kipas\", \"kulkas\"}\n",
        "\n",
        "#gabungan produk dari katalog A dan B\n",
        "katalog_lengkap = katalog_A | katalog_B\n",
        "produk_promo_aktif = katalog_lengkap & produk_diskon\n",
        "\n",
        "#hasil output\n",
        "print (\"kataloog A:\", katalog_A)\n",
        "print (\"katalog B:\", katalog_B)\n",
        "print (\"katalog Lengkap:\", katalog_lengkap)\n",
        "print (\"produk Diskon:\", produk_diskon)\n",
        "print (\"produk promo aktif:\", produk_promo_aktif)\n"
      ],
      "metadata": {
        "colab": {
          "base_uri": "https://localhost:8080/"
        },
        "id": "PqW0Go03dYGP",
        "outputId": "7562c5a1-b5e1-412b-8254-6af9cecda9a6"
      },
      "execution_count": 91,
      "outputs": [
        {
          "output_type": "stream",
          "name": "stdout",
          "text": [
            "kataloog A: {'meja', 'kipas', 'Television'}\n",
            "katalog B: {'kulkas', 'sofa', 'lemari'}\n",
            "katalog Lengkap: {'lemari', 'kulkas', 'meja', 'kipas', 'sofa', 'Television'}\n",
            "produk Diskon: {'kulkas', 'kipas'}\n",
            "produk promo aktif: {'kulkas', 'kipas'}\n"
          ]
        }
      ]
    }
  ]
}