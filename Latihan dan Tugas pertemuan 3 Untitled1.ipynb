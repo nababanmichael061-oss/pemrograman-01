{
  "nbformat": 4,
  "nbformat_minor": 0,
  "metadata": {
    "colab": {
      "provenance": [],
      "authorship_tag": "ABX9TyOK/3WcxTERR3jyvtHihY/w",
      "include_colab_link": true
    },
    "kernelspec": {
      "name": "python3",
      "display_name": "Python 3"
    },
    "language_info": {
      "name": "python"
    }
  },
  "cells": [
    {
      "cell_type": "markdown",
      "metadata": {
        "id": "view-in-github",
        "colab_type": "text"
      },
      "source": [
        "<a href=\"https://colab.research.google.com/github/nababanmichael061-oss/pemrograman-01/blob/main/Latihan%20dan%20Tugas%20pertemuan%203%20Untitled1.ipynb\" target=\"_parent\"><img src=\"https://colab.research.google.com/assets/colab-badge.svg\" alt=\"Open In Colab\"/></a>"
      ]
    },
    {
      "cell_type": "code",
      "execution_count": 1,
      "metadata": {
        "colab": {
          "base_uri": "https://localhost:8080/"
        },
        "id": "smJNgMDyn0Dc",
        "outputId": "b3d1c83b-a549-4e33-9e7a-a313784ab183"
      },
      "outputs": [
        {
          "output_type": "stream",
          "name": "stdout",
          "text": [
            "Tahun: 2024\n",
            "Tahun 2024 adalah tahun kabisat\n"
          ]
        }
      ],
      "source": [
        "#Latihan soal No 1\n",
        "tahun = int(input(\"Tahun: \"))\n",
        "\n",
        "pesan = {\n",
        "    True: f\"Tahun {tahun} adalah tahun kabisat\",\n",
        "    False: f\"Tahun {tahun} bukan tahun kabisat\"\n",
        "}\n",
        "\n",
        "print(pesan[(tahun % 4 == 0 and tahun % 100 != 0) or (tahun % 400 == 0)])"
      ]
    },
    {
      "cell_type": "code",
      "source": [
        "#Latihan soal No 2\n",
        "# Input\n",
        "nama = input(\"Nama pelanggan: \")\n",
        "makanan = input(\"Nama makanan: \")\n",
        "harga_str = input(f\"Harga {makanan}: Rp \")\n",
        "jumlah = int(input(f\"Jumlah {makanan} yang dibeli: \"))\n",
        "\n",
        "# Operasi aritmatika (total bayar)\n",
        "total = harga * jumlah\n",
        "\n",
        "# Output\n",
        "print(\"\\n===== STRUK PEMBELIAN =====\")\n",
        "print(f\"Pelanggan   : {nama}\")\n",
        "print(f\"Makanan     : {makanan}\")\n",
        "print(f\"Harga       : Rp {harga:,.0f}\")\n",
        "print(f\"Jumlah      : {jumlah}\")\n",
        "print(f\"Total Bayar : Rp {total:,.0f}\")\n",
        "print(\"============================\")\n",
        "print(\"Terima kasih sudah berbelanja!\")"
      ],
      "metadata": {
        "colab": {
          "base_uri": "https://localhost:8080/"
        },
        "id": "pz5Q6wUkn5vi",
        "outputId": "b4817f4e-bd37-44ce-cd22-cf60827f8d57"
      },
      "execution_count": 8,
      "outputs": [
        {
          "output_type": "stream",
          "name": "stdout",
          "text": [
            "Nama pelanggan: Michael\n",
            "Nama makanan: Kepiting saos\n",
            "Harga Kepiting saos: Rp 175000\n",
            "Jumlah Kepiting saos yang dibeli: 2\n",
            "\n",
            "===== STRUK PEMBELIAN =====\n",
            "Pelanggan   : Michael\n",
            "Makanan     : Kepiting saos\n",
            "Harga       : Rp 175,000\n",
            "Jumlah      : 2\n",
            "Total Bayar : Rp 350,000\n",
            "============================\n",
            "Terima kasih sudah berbelanja!\n"
          ]
        }
      ]
    },
    {
      "cell_type": "code",
      "source": [
        "#Tugas\n",
        "# Input data\n",
        "nama = input(\"Nama pelanggan: \")\n",
        "subtotal = float(input(\"Total belanja: Rp \"))\n",
        "member = input(\"Apakah Anda member? (ya/tidak): \").lower()\n",
        "# evaluasi diskon\n",
        "diskon = subtotal * 0.15 * (member == \"ya\") * (subtotal > 100000)\n",
        "# Harga setelah diskon\n",
        "harga_setelah_diskon = subtotal - diskon\n",
        "# Hitung PPN 11%\n",
        "ppn = harga_setelah_diskon * 0.11\n",
        "# Hitung total akhir\n",
        "total_akhir = harga_setelah_diskon + ppn\n",
        "# Output hasil\n",
        "print(\"\\n===== STRUK PEMBAYARAN =====\")\n",
        "print(f\"Pelanggan         : {nama}\")\n",
        "print(f\"Subtotal          : Rp {subtotal:,.0f}\")\n",
        "print(f\"Diskon (15%)      : Rp {diskon:,.0f}\")\n",
        "print(f\"Harga setelah diskon : Rp {harga_setelah_diskon:,.0f}\")\n",
        "print(f\"PPN (11%)         : Rp {ppn:,.0f}\")\n",
        "print(f\"TOTAL AKHIR       : Rp {total_akhir:,.0f}\")\n",
        "print(\"=============================\")\n",
        "print(\"Terima kasih sudah berbelanja!\")"
      ],
      "metadata": {
        "colab": {
          "base_uri": "https://localhost:8080/"
        },
        "id": "EzethRf0n9ix",
        "outputId": "3c71ef31-7789-47cc-aad9-469bfd1d9591"
      },
      "execution_count": 11,
      "outputs": [
        {
          "output_type": "stream",
          "name": "stdout",
          "text": [
            "Nama pelanggan: Michael\n",
            "Total belanja: Rp 175000\n",
            "Apakah Anda member? (ya/tidak): ya\n",
            "\n",
            "===== STRUK PEMBAYARAN =====\n",
            "Pelanggan         : Michael\n",
            "Subtotal          : Rp 175,000\n",
            "Diskon (15%)      : Rp 26,250\n",
            "Harga setelah diskon : Rp 148,750\n",
            "PPN (11%)         : Rp 16,362\n",
            "TOTAL AKHIR       : Rp 165,112\n",
            "=============================\n",
            "Terima kasih sudah berbelanja!\n"
          ]
        }
      ]
    }
  ]
}