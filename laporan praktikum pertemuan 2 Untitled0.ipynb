{
  "nbformat": 4,
  "nbformat_minor": 0,
  "metadata": {
    "colab": {
      "provenance": [],
      "authorship_tag": "ABX9TyO8gsutx5xZaWJgG+w+tZdn",
      "include_colab_link": true
    },
    "kernelspec": {
      "name": "python3",
      "display_name": "Python 3"
    },
    "language_info": {
      "name": "python"
    }
  },
  "cells": [
    {
      "cell_type": "markdown",
      "metadata": {
        "id": "view-in-github",
        "colab_type": "text"
      },
      "source": [
        "<a href=\"https://colab.research.google.com/github/nababanmichael061-oss/pemrograman-01/blob/main/laporan%20praktikum%20pertemuan%203%20Untitled0.ipynb\" target=\"_parent\"><img src=\"https://colab.research.google.com/assets/colab-badge.svg\" alt=\"Open In Colab\"/></a>"
      ]
    },
    {
      "cell_type": "code",
      "execution_count": 8,
      "metadata": {
        "id": "102Lp3IOlWzV",
        "colab": {
          "base_uri": "https://localhost:8080/"
        },
        "outputId": "ab29e2eb-cd6e-446b-b4df-74e8a45f093e"
      },
      "outputs": [
        {
          "output_type": "stream",
          "name": "stdout",
          "text": [
            "43\n"
          ]
        }
      ],
      "source": [
        "# deklarasi variabel list\n",
        "\n",
        "numbers = [23, 43, 15, 34]\n",
        "\n",
        "# cara mengakses elemen dalam variabel list\n",
        "\n",
        "numbers [0] # 23\n",
        "\n",
        "numbers [1] # 43\n",
        "\n",
        "numbers [2] # 15\n",
        "\n",
        "numbers [3] # 34\n",
        "\n",
        "# cara mengubah nilai elemen dalam variabel list\n",
        "\n",
        "numbers [2] # 51\n",
        "\n",
        "numbers [2] # 51\n",
        "\n",
        "print (numbers [1]) #lakukan untuk setiap indexnya dan lihat hasilnya\n",
        "\n",
        "\n",
        "\n"
      ]
    },
    {
      "cell_type": "code",
      "source": [
        "#deklarasi variabel list numbers\n",
        "\n",
        "numbers = [1, 2, 3]\n",
        "\n",
        "# menambahkan elemen di indeks ke-4\n",
        "numbers.insert (4, 5) # [1, 2, 3, 5]\n",
        "\n",
        "# mengubah elemen di indeks ke-4\n",
        "numbers [3] = 4 # [1, 2, 3, 4]\n",
        "\n",
        "# menghapus elemen di indeks ke-2\n",
        "numbers.pop(2) # [1, 2, 4]\n",
        "\n",
        "\n",
        "#print lalu lihat hasilnya"
      ],
      "metadata": {
        "colab": {
          "base_uri": "https://localhost:8080/"
        },
        "id": "ghmhTZyd0jfr",
        "outputId": "9f05649d-9b19-4cba-bcb7-ed81bc273dc1"
      },
      "execution_count": 9,
      "outputs": [
        {
          "output_type": "execute_result",
          "data": {
            "text/plain": [
              "3"
            ]
          },
          "metadata": {},
          "execution_count": 9
        }
      ]
    },
    {
      "cell_type": "markdown",
      "source": [],
      "metadata": {
        "id": "8diMNmTAb4FU"
      }
    },
    {
      "cell_type": "code",
      "source": [
        "# deklarasi variabel list numbers\n",
        "numbers = [1, 2, 3]\n",
        "\n",
        "# menambahkan elemen di indeks ke-4\n",
        "numbers.insert(4, 5) # [1, 2, 3, 5]\n",
        "\n",
        "# mengubah elemen di indeks ke-4\n",
        "numbers [3] = 4 # [1, 2, 3, 4]\n",
        "\n",
        "# menghapus elemen di indeks ke-2\n",
        "numbers.pop(2) # [1, 2, 4]\n",
        "\n",
        "#print setiap hasil perubahan dan amati hasilnya"
      ],
      "metadata": {
        "colab": {
          "base_uri": "https://localhost:8080/"
        },
        "id": "-jhKPosgXQqv",
        "outputId": "823622ea-915f-45b4-d819-36aa246d6cfb"
      },
      "execution_count": 10,
      "outputs": [
        {
          "output_type": "execute_result",
          "data": {
            "text/plain": [
              "3"
            ]
          },
          "metadata": {},
          "execution_count": 10
        }
      ]
    },
    {
      "cell_type": "code",
      "source": [
        "#deklarasi variabel list\n",
        "\n",
        "myList = [1, \"Rumah\", 4.5, True, [\"Kamar mandi\", \"Kamar tidur\"]]\n",
        "\n",
        "# cara mengakses elemen dalam variabel list\n",
        "\n",
        "myList[0] #1\n",
        "\n",
        "myList[1] # \"Rumah\"\n",
        "\n",
        "myList[3] # True\n",
        "\n",
        "myList[4] # [\"Kamar mandi\", \"Kamar tidur\"]\n",
        "\n",
        "# cara mengakses elemen dalam sublist\n",
        "\n",
        "myList[4] [0] # \"Kamar mandi\"\n",
        "\n",
        "myList[4] [1] # \"Kamar tidur\"\n",
        "\n",
        "#lakukan print lalu amati hasilnya\n",
        "\n"
      ],
      "metadata": {
        "colab": {
          "base_uri": "https://localhost:8080/",
          "height": 35
        },
        "id": "1F0YD6mxX-D2",
        "outputId": "e9dd4b20-d35b-400b-9260-93aa55d5bba9"
      },
      "execution_count": 11,
      "outputs": [
        {
          "output_type": "execute_result",
          "data": {
            "text/plain": [
              "'Kamar tidur'"
            ],
            "application/vnd.google.colaboratory.intrinsic+json": {
              "type": "string"
            }
          },
          "metadata": {},
          "execution_count": 11
        }
      ]
    },
    {
      "cell_type": "code",
      "source": [
        "# deklarasi variabel tuple\n",
        "\n",
        "numbers = (23, 43, 15, 34)\n",
        "\n",
        "# cara mengakses elemen dalam variabel tuple\n",
        "\n",
        "numbers[0] # 23\n",
        "\n",
        "numbers [1] # 43\n",
        "\n",
        "numbers [2] # 15\n",
        "\n",
        "#lakuan print lalu amati hasilnya"
      ],
      "metadata": {
        "colab": {
          "base_uri": "https://localhost:8080/"
        },
        "id": "ePcenpTyZwL-",
        "outputId": "b78da5e0-fec8-49c3-bb17-b9c3500a5c93"
      },
      "execution_count": 12,
      "outputs": [
        {
          "output_type": "execute_result",
          "data": {
            "text/plain": [
              "15"
            ]
          },
          "metadata": {},
          "execution_count": 12
        }
      ]
    },
    {
      "cell_type": "code",
      "source": [
        "#deklarasi variabel set a dan b\n",
        "\n",
        "a = {1, 2, 3}\n",
        "\n",
        "b = {2, 3, 4}\n",
        "\n",
        "# operasi gabungan\n",
        "\n",
        "a.union(b) # {1, 2, 3, 4}\n",
        "\n",
        "# operasi irisan\n",
        "\n",
        "a.intersection(b)\n",
        "\n",
        "# {2, 3}\n",
        "\n",
        "# operasi perbedaan\n",
        "\n",
        "a.symmetric_difference(b)\n",
        "\n",
        "# {1, 4}\n",
        "\n",
        "#lakukan print dan lihat hasilny"
      ],
      "metadata": {
        "id": "0iQTZU-ncUNU",
        "outputId": "7f2e5efb-781d-4c90-c2fc-7829b896a5c2",
        "colab": {
          "base_uri": "https://localhost:8080/"
        }
      },
      "execution_count": 13,
      "outputs": [
        {
          "output_type": "execute_result",
          "data": {
            "text/plain": [
              "{1, 4}"
            ]
          },
          "metadata": {},
          "execution_count": 13
        }
      ]
    },
    {
      "cell_type": "code",
      "source": [
        "#deklarasi variabel dictionary\n",
        "\n",
        "propertyDetail = {\"numFloors\": 1, \"propertyType\": \"Rumah\", \"hasTerrace\": True, \"hasGarage\": False}\n",
        "\n",
        "\n",
        "# cara mengakses elemen dalam variabel dictionary\n",
        "\n",
        "propertyDetail[\"numFloors\"]          #1\n",
        "\n",
        "propertyDetail[\"propertyType\"]       # Rumah\n",
        "\n",
        "propertyDetail[\"hasTerrace\"]         # True\n",
        "\n",
        "propertyDetail[\"hasGarage\"]          # False\n",
        "\n",
        "# cara mengubah nilai elemen dalam variabel dictionary\n",
        "\n",
        "propertyDetail [\"hasTerrace\"] = False\n",
        "\n",
        "propertyDetail[\"hasTerrace\"]  # False\n",
        "\n",
        "#print(propertyDetail[\"propertyType\"])\n",
        "\n",
        "#lakuan print lalu amati hasilnya"
      ],
      "metadata": {
        "colab": {
          "base_uri": "https://localhost:8080/"
        },
        "id": "SO2wsHrCvDH5",
        "outputId": "c6c5ae89-7bfe-4b60-c898-73da2f3f20bc"
      },
      "execution_count": 14,
      "outputs": [
        {
          "output_type": "execute_result",
          "data": {
            "text/plain": [
              "False"
            ]
          },
          "metadata": {},
          "execution_count": 14
        }
      ]
    }
  ]
}
