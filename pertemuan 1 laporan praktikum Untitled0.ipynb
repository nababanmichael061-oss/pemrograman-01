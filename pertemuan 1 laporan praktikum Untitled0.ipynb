{
  "nbformat": 4,
  "nbformat_minor": 0,
  "metadata": {
    "colab": {
      "provenance": [],
      "authorship_tag": "ABX9TyOuVh5jCZnBHvYurQNAWRRz",
      "include_colab_link": true
    },
    "kernelspec": {
      "name": "python3",
      "display_name": "Python 3"
    },
    "language_info": {
      "name": "python"
    }
  },
  "cells": [
    {
      "cell_type": "markdown",
      "metadata": {
        "id": "view-in-github",
        "colab_type": "text"
      },
      "source": [
        "<a href=\"https://colab.research.google.com/github/nababanmichael061-oss/pemrograman-01/blob/main/Untitled0.ipynb\" target=\"_parent\"><img src=\"https://colab.research.google.com/assets/colab-badge.svg\" alt=\"Open In Colab\"/></a>"
      ]
    },
    {
      "cell_type": "code",
      "execution_count": 11,
      "metadata": {
        "id": "71ukZK-dxbFU",
        "colab": {
          "base_uri": "https://localhost:8080/"
        },
        "outputId": "8abf0c03-02b6-4727-e095-3ca2db901fbe"
      },
      "outputs": [
        {
          "output_type": "stream",
          "name": "stdout",
          "text": [
            "Michael Rafael Nababan\n",
            "18\n",
            "RPE\n",
            "3\n",
            "4232401005\n",
            "False\n",
            "batam, 29-09-2006\n",
            "+6281372004910\n",
            "michael.r.nbbm\n"
          ]
        }
      ],
      "source": [
        "#Biodata saya\n",
        "\n",
        "nama = \"Michael Rafael Nababan\"\n",
        "umur = 18\n",
        "jurusan = \"Teknik Elektro\"\n",
        "program_studi = \"RPE\"\n",
        "semester = 3\n",
        "nim = \"4232401005\"\n",
        "status_lulus = False\n",
        "tempat_tanggal_lahir = \"batam, 29-09-2006\"\n",
        "\n",
        "no_telepon = \"+6281372004910\"\n",
        "instragram = \"michael.r.nbbm\"\n",
        "\n",
        "\n",
        "print (nama)\n",
        "print (umur)\n",
        "print (program_studi)\n",
        "print (semester)\n",
        "print (nim)\n",
        "print (status_lulus)\n",
        "print (tempat_tanggal_lahir)\n",
        "\n",
        "print (no_telepon)\n",
        "print (instragram)\n"
      ]
    }
  ]
}
