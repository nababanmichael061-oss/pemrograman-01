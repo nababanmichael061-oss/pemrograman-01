{
  "nbformat": 4,
  "nbformat_minor": 0,
  "metadata": {
    "colab": {
      "provenance": [],
      "authorship_tag": "ABX9TyO77PVwIla+65ZZ0z4gWBO9",
      "include_colab_link": true
    },
    "kernelspec": {
      "name": "python3",
      "display_name": "Python 3"
    },
    "language_info": {
      "name": "python"
    }
  },
  "cells": [
    {
      "cell_type": "markdown",
      "metadata": {
        "id": "view-in-github",
        "colab_type": "text"
      },
      "source": [
        "<a href=\"https://colab.research.google.com/github/nababanmichael061-oss/pemrograman-01/blob/main/Laporan%20praktikum%20pertemuan%203%20Untitled1.ipynb\" target=\"_parent\"><img src=\"https://colab.research.google.com/assets/colab-badge.svg\" alt=\"Open In Colab\"/></a>"
      ]
    },
    {
      "cell_type": "code",
      "execution_count": 1,
      "metadata": {
        "colab": {
          "base_uri": "https://localhost:8080/"
        },
        "id": "tQ4yG_b3g1aR",
        "outputId": "21dec60f-99f8-4284-b7f0-8b49a1896b60"
      },
      "outputs": [
        {
          "name": "stdout",
          "output_type": "stream",
          "text": [
            "Berapa porsi makan yang anda beli? : 10\n",
            "Siapa nama pelanggan? :Michael\n"
          ]
        }
      ],
      "source": [
        "#Praktikum\n",
        "total = float(input(\"Berapa porsi makan yang anda beli? : \"))\n",
        "\n",
        "Name = str (input(\"Siapa nama pelanggan? :\"))"
      ]
    },
    {
      "cell_type": "code",
      "source": [
        "food = \"mie ayam bakso\"\n",
        "jumlah = 3\n",
        "harga = 10000\n",
        "total = jumlah * harga\n",
        "\n",
        "print(\"Michael sedang memesan %s\" % (food))\n",
        "print(\"jumlah pesanan = %d porsi\" % (jumlah))\n",
        "print(\"harga per porsi = Rp %d\" % (harga))\n",
        "print(\"total bayar = Rp %.0f\" % (total))\n",
        "print(\"total bayar (hex) = %x\" % (total))\n",
        "print(\"total bayar (oktal) = %o\" % (total))"
      ],
      "metadata": {
        "colab": {
          "base_uri": "https://localhost:8080/"
        },
        "id": "Ika-J_QGg_li",
        "outputId": "d8dc4e81-062d-42f0-b0a9-c83a983468f2"
      },
      "execution_count": 2,
      "outputs": [
        {
          "output_type": "stream",
          "name": "stdout",
          "text": [
            "Michael sedang memesan mie ayam bakso\n",
            "jumlah pesanan = 3 porsi\n",
            "harga per porsi = Rp 10000\n",
            "total bayar = Rp 30000\n",
            "total bayar (hex) = 7530\n",
            "total bayar (oktal) = 72460\n"
          ]
        }
      ]
    },
    {
      "cell_type": "code",
      "source": [
        "#kalkulator sederhana\n",
        "ayam_geprek = 24000\n",
        "mie_kwetiaw = 17000\n",
        "\n",
        "print(\"harga ayam geprek dan mie kwetiaw:\", ayam_geprek + mie_kwetiaw)\n",
        "print(\"selisih harga ayam geprek dan mie kwetiaw:\", ayam_geprek - mie_kwetiaw)\n",
        "print(\"jumlah perkalian ayam geprek dan mie kwetiaw:\", ayam_geprek * mie_kwetiaw)\n",
        "print(\"pembagian ayam geprek dan mie kwetiaw:\", ayam_geprek / mie_kwetiaw)\n",
        "\n"
      ],
      "metadata": {
        "colab": {
          "base_uri": "https://localhost:8080/"
        },
        "id": "8R8AJWILhhlC",
        "outputId": "d738b0d1-a6e3-4fe3-9e92-22cb3dbb36a2"
      },
      "execution_count": 4,
      "outputs": [
        {
          "output_type": "stream",
          "name": "stdout",
          "text": [
            "harga ayam geprek dan mie kwetiaw: 41000\n",
            "selisih harga ayam geprek dan mie kwetiaw: 7000\n",
            "jumlah perkalian ayam geprek dan mie kwetiaw: 408000000\n",
            "pembagian ayam geprek dan mie kwetiaw: 1.411764705882353\n"
          ]
        }
      ]
    },
    {
      "cell_type": "code",
      "source": [
        "#kalkulator kasir\n",
        "\n",
        "harga_makan = int(input(\"berapa harga ayam geprek per porsi?\"))\n",
        "jumlah_makan = int(input(\"berapa porsi yang anda beli?\"))\n",
        "total_makan = harga_makan * jumlah_makan\n",
        "\n",
        "print(f\"Harga makan per porsi = {harga_makan}\")\n",
        "print(f\"jumlah makan = {jumlah_makan}\")\n",
        "print(f\"total makan = {total_makan}\")"
      ],
      "metadata": {
        "colab": {
          "base_uri": "https://localhost:8080/"
        },
        "id": "8_VPa7MkhnbM",
        "outputId": "1d2d918a-9ffa-41f6-8f6b-7643def81e08"
      },
      "execution_count": 5,
      "outputs": [
        {
          "output_type": "stream",
          "name": "stdout",
          "text": [
            "berapa harga ayam geprek per porsi?24000\n",
            "berapa porsi yang anda beli?5\n",
            "Harga makan per porsi = 24000\n",
            "jumlah makan = 5\n",
            "total makan = 120000\n"
          ]
        }
      ]
    },
    {
      "cell_type": "code",
      "source": [
        "#mengecek bilangan\n",
        "\n",
        "bilangan = 8\n",
        "hasil = (bilangan >0) and (bilangan %2 == 0)\n",
        "\n",
        "print(\"genap dan positif?\", hasil)\n"
      ],
      "metadata": {
        "colab": {
          "base_uri": "https://localhost:8080/"
        },
        "id": "q6Wnr5gohts6",
        "outputId": "d3cdd10f-4924-4888-bcad-c44be9399ff4"
      },
      "execution_count": 6,
      "outputs": [
        {
          "output_type": "stream",
          "name": "stdout",
          "text": [
            "genap dan positif? True\n"
          ]
        }
      ]
    },
    {
      "cell_type": "code",
      "source": [
        "#mengkonversi waktu\n",
        "total_detik = int(input(\"total detik:\"))\n",
        "jam = total_detik // 3600\n",
        "sisa_detik = total_detik % 3600\n",
        "menit = sisa_detik // 60\n",
        "detik = sisa_detik % 60\n",
        "\n",
        "print(f\"hasil konversi: {jam} jam, {menit} menit, {detik} detik\")"
      ],
      "metadata": {
        "colab": {
          "base_uri": "https://localhost:8080/"
        },
        "id": "65DLZTLohxzh",
        "outputId": "2bc18ff5-6b80-41ab-8b12-e819b767969c"
      },
      "execution_count": 7,
      "outputs": [
        {
          "output_type": "stream",
          "name": "stdout",
          "text": [
            "total detik:358200\n",
            "hasil konversi: 99 jam, 30 menit, 0 detik\n"
          ]
        }
      ]
    },
    {
      "cell_type": "code",
      "source": [
        "#menghitung nilai mahasiswa\n",
        "# Input nilai\n",
        "tugas = int(input(\"Nilai Tugas: \"))\n",
        "quiz = int(input(\"Nilai Quiz: \"))\n",
        "ats = int(input(\"Nilai ATS: \"))\n",
        "aas = int(input(\"Nilai AAS: \"))\n",
        "\n",
        "# nilai_akhir\n",
        "nilai_akhir = (tugas + quiz + ats + aas) / 4\n",
        "\n",
        "# Input standar kelulusan\n",
        "standar_kelulusan = int(input(\"standar kelulusan: \"))\n",
        "\n",
        "# nilai mahasiswa dari nilai akhir\n",
        "nilai_mahasiswa = nilai_akhir\n",
        "\n",
        "# Cek kelulusan\n",
        "apakah_lulus = nilai_mahasiswa >= standar_kelulusan\n",
        "perlu_remedial = not(apakah_lulus)\n",
        "\n",
        "print(f\"Nilai Mahasiswa: {nilai_mahasiswa}\")\n",
        "print(f\"Standar Kelulusan: {standar_kelulusan}\")\n",
        "print(f\"Apakah Mahasiswa lulus? {apakah_lulus}\")\n",
        "print(f\"Perlu Remedial? {perlu_remedial}\")"
      ],
      "metadata": {
        "colab": {
          "base_uri": "https://localhost:8080/"
        },
        "id": "YiiFQpHWidc7",
        "outputId": "c4308b95-2aa1-47d7-813f-1e850dddacc7"
      },
      "execution_count": 12,
      "outputs": [
        {
          "output_type": "stream",
          "name": "stdout",
          "text": [
            "Nilai Tugas: 85\n",
            "Nilai Quiz: 83\n",
            "Nilai ATS: 90\n",
            "Nilai AAS: 88\n",
            "standar kelulusan: 80\n",
            "Nilai Mahasiswa: 86.5\n",
            "Standar Kelulusan: 80\n",
            "Apakah Mahasiswa lulus? True\n",
            "Perlu Remedial? False\n"
          ]
        }
      ]
    },
    {
      "cell_type": "code",
      "source": [
        "#menghitung harga diskon\n",
        "belanja = int(input(\"total belanja: \"))\n",
        "\n",
        "diskon = (belanja > 1000000) * (0.35 * belanja) + \\\n",
        "         ((belanja > 500000) and (belanja <= 1000000)) * (0.1 * belanja)\n",
        "\n",
        "total_harga = belanja - diskon\n",
        "print(\"diskon  :\", diskon)\n",
        "print(\"Total harga setelah diskon =\", total_harga)"
      ],
      "metadata": {
        "colab": {
          "base_uri": "https://localhost:8080/"
        },
        "id": "dYmJXskyjF-b",
        "outputId": "d55cf487-56fa-4a54-b8cd-d9400b6bfe5b"
      },
      "execution_count": 13,
      "outputs": [
        {
          "output_type": "stream",
          "name": "stdout",
          "text": [
            "total belanja: 1200000\n",
            "diskon  : 420000.0\n",
            "Total harga setelah diskon = 780000.0\n"
          ]
        }
      ]
    }
  ]
}