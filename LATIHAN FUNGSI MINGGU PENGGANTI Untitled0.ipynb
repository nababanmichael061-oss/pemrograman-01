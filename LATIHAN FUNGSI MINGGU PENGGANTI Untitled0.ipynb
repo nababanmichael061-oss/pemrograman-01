{
  "nbformat": 4,
  "nbformat_minor": 0,
  "metadata": {
    "colab": {
      "provenance": [],
      "authorship_tag": "ABX9TyMv3prJgvGc8Yr0LDZEVyh6",
      "include_colab_link": true
    },
    "kernelspec": {
      "name": "python3",
      "display_name": "Python 3"
    },
    "language_info": {
      "name": "python"
    }
  },
  "cells": [
    {
      "cell_type": "markdown",
      "metadata": {
        "id": "view-in-github",
        "colab_type": "text"
      },
      "source": [
        "<a href=\"https://colab.research.google.com/github/nababanmichael061-oss/pemrograman-01/blob/main/LATIHAN%20FUNGSI%20MINGGU%20PENGGANTI%20Untitled0.ipynb\" target=\"_parent\"><img src=\"https://colab.research.google.com/assets/colab-badge.svg\" alt=\"Open In Colab\"/></a>"
      ]
    },
    {
      "cell_type": "code",
      "execution_count": null,
      "metadata": {
        "colab": {
          "base_uri": "https://localhost:8080/"
        },
        "id": "GKxWj_GPkid9",
        "outputId": "d4233b42-eb57-4288-a891-a239544dfbbb"
      },
      "outputs": [
        {
          "output_type": "stream",
          "name": "stdout",
          "text": [
            "Sistem siap. Selamat datang kembali di sesi praktikum, Michael Rafael Nababan!\n"
          ]
        }
      ],
      "source": [
        "# SOAL 1: Fungsi Inisialisasi Sederhana\n",
        "def sapa_praktikan(Nama):\n",
        "    \"\"\"Mencetak pesan sambutan dasar.\"\"\"\n",
        "    print(f\"Sistem siap. Selamat datang kembali di sesi praktikum, {Nama}!\")\n",
        "\n",
        "# Pemanggilan:\n",
        "sapa_praktikan(\"Michael Rafael Nababan\")"
      ]
    },
    {
      "cell_type": "code",
      "source": [
        "# MODIFIKASI: Fungsi untuk menampilkan Biodata Lengkap\n",
        "def Biodata():\n",
        "    \"\"\"Menampilkan biodata lengkap praktikan.\"\"\"\n",
        "    print(\"=== BIODATA PRAKTIKAN ===\")\n",
        "    print(\"Nama     : Michael Rafael Nababan\")\n",
        "    print(\"NIM      : 4232401005\")\n",
        "    print(\"Jurusan  : TeknikElektro\")\n",
        "    print(\"Prodi    : Teknologi Rekayasa Pembangkit Energi\")\n",
        "    print(\"Kelas    : Pagi-3A\")\n",
        "    print(\"Hobi     : Menonton Film & Musik\")\n",
        "\n",
        "# Pemanggilan fungsi\n",
        "Biodata()\n"
      ],
      "metadata": {
        "colab": {
          "base_uri": "https://localhost:8080/"
        },
        "id": "tnCPTmQInhio",
        "outputId": "62a6505b-9248-4dc6-bbcd-3d016a1d77f9"
      },
      "execution_count": null,
      "outputs": [
        {
          "output_type": "stream",
          "name": "stdout",
          "text": [
            "=== BIODATA PRAKTIKAN ===\n",
            "Nama     : Michael Rafael Nababan\n",
            "NIM      : 4232401005\n",
            "Jurusan  : TeknikElektro\n",
            "Prodi    : Teknologi Rekayasa Pembangkit Energi\n",
            "Kelas    : Pagi-3A\n",
            "Hobi     : Menonton Film & Musik\n"
          ]
        }
      ]
    },
    {
      "cell_type": "code",
      "source": [
        "# SOAL 2: Menghitung Volume Kubus\n",
        "def hitung_volume_kubus(sisi):\n",
        "    \"\"\"Menghitung volume kubus dari panjang sisinya.\"\"\"\n",
        "    return sisi ** 3\n",
        "\n",
        "# Pemanggilan:\n",
        "panjang_sisi = 5\n",
        "print(f\"Volume kubus dengan sisi {panjang_sisi} adalah: {hitung_volume_kubus(panjang_sisi)}\")\n"
      ],
      "metadata": {
        "colab": {
          "base_uri": "https://localhost:8080/"
        },
        "id": "MFDUequ4wGsR",
        "outputId": "8d87352b-681c-4ce9-e5c0-5311b5f08d3b"
      },
      "execution_count": null,
      "outputs": [
        {
          "output_type": "stream",
          "name": "stdout",
          "text": [
            "Volume kubus dengan sisi 5 adalah: 125\n"
          ]
        }
      ]
    },
    {
      "cell_type": "code",
      "source": [
        "# Modifikasi Fungsi menghitung volume balok\n",
        "def hitung_volume_balok(panjang, lebar, tinggi):\n",
        "    \"\"\"Menghitung volume balok berdasarkan panjang, lebar, dan tinggi.\"\"\"\n",
        "    return panjang * lebar * tinggi\n",
        "\n",
        "# Pemanggilan:\n",
        "p = 10\n",
        "l = 5\n",
        "t = 4\n",
        "print(f\"Volume balok dengan ukuran {p}x{l}x{t} adalah: {hitung_volume_balok(p, l, t)}\")"
      ],
      "metadata": {
        "colab": {
          "base_uri": "https://localhost:8080/"
        },
        "id": "bpPwPNbYwQ1Y",
        "outputId": "a0175cf5-c2c9-4c0d-de2a-501859d4f260"
      },
      "execution_count": null,
      "outputs": [
        {
          "output_type": "stream",
          "name": "stdout",
          "text": [
            "Volume balok dengan ukuran 10x5x4 adalah: 200\n"
          ]
        }
      ]
    },
    {
      "cell_type": "code",
      "source": [
        "# SOAL 3: Menghitung Rata-rata dari List Nilai\n",
        "def hitung_rata_rata(data_nilai):\n",
        "    \"\"\"Menghitung rata-rata dari list angka menggunakan perulangan for.\"\"\"\n",
        "    total = 0\n",
        "\n",
        "    # Perulangan untuk menjumlahkan nilai\n",
        "    for nilai in data_nilai:\n",
        "        total += nilai\n",
        "\n",
        "    # Pembagian untuk rata-rata\n",
        "    if total > 0:\n",
        "        return total / len(data_nilai)\n",
        "    return 0\n",
        "\n",
        "# Pemanggilan:\n",
        "nilai_praktikan = [85, 78, 92, 65, 90]\n",
        "print(f\"Nilai rata-rata kelas adalah: {hitung_rata_rata(nilai_praktikan)}\")"
      ],
      "metadata": {
        "colab": {
          "base_uri": "https://localhost:8080/"
        },
        "id": "qA-VpK1ezBFG",
        "outputId": "c5fda9f7-77d9-47fd-a8ad-92c89249214e"
      },
      "execution_count": null,
      "outputs": [
        {
          "output_type": "stream",
          "name": "stdout",
          "text": [
            "Nilai rata-rata kelas adalah: 82.0\n"
          ]
        }
      ]
    },
    {
      "cell_type": "code",
      "source": [
        "# Modifikasi Menghitung Rata-rata dengan Validasi Nilai Rata Rata Kelas\n",
        "def hitung_rata_rata(data_nilai):\n",
        "    \"\"\"Menghitung rata-rata dari list angka menggunakan perulangan for dengan pengecekan nilai tidak valid.\"\"\"\n",
        "    total = 0\n",
        "    jumlah_valid = 0  # untuk menghitung jumlah nilai valid\n",
        "\n",
        "    # Perulangan untuk menjumlahkan nilai\n",
        "    for nilai in data_nilai:\n",
        "        # Percabangan: cek nilai valid atau tidak\n",
        "        if 0 <= nilai <= 100:\n",
        "            total += nilai\n",
        "            jumlah_valid += 1\n",
        "        elif nilai < 0:\n",
        "            print(f\"Nilai {nilai} tidak valid! Diabaikan dari perhitungan.\")\n",
        "            continue  # nilai diabaikan\n",
        "        else:\n",
        "            print(f\"Nilai {nilai} terlalu tinggi! Dikenai penalti (dihitung 0).\")\n",
        "            total += 0  # penalti nilai di atas 100\n",
        "\n",
        "    # Pembagian untuk rata-rata\n",
        "    if jumlah_valid > 0:\n",
        "        return total / jumlah_valid\n",
        "    return 0\n",
        "\n",
        "# Pemanggilan:\n",
        "nilai_praktikan = [95, 98, 105, 92, -5, 90]\n",
        "print(f\"Nilai rata-rata kelas adalah: {hitung_rata_rata(nilai_praktikan)}\")\n"
      ],
      "metadata": {
        "colab": {
          "base_uri": "https://localhost:8080/"
        },
        "id": "lsseAhSr1THf",
        "outputId": "272aba74-8955-4065-a145-606611507d5b"
      },
      "execution_count": null,
      "outputs": [
        {
          "output_type": "stream",
          "name": "stdout",
          "text": [
            "Nilai 105 terlalu tinggi! Dikenai penalti (dihitung 0).\n",
            "Nilai -5 tidak valid! Diabaikan dari perhitungan.\n",
            "Nilai rata-rata kelas adalah: 93.75\n"
          ]
        }
      ]
    },
    {
      "cell_type": "code",
      "source": [
        "# SOAL 4: Sistem Penentuan Predikat Nilai (dengan input dan pengecekan tipe data)\n",
        "\n",
        "def tentukan_predikat(skor):\n",
        "    \"\"\"Menentukan predikat (A, B, C, D, E) berdasarkan skor numerik.\"\"\"\n",
        "\n",
        "    # Pengecekan tipe data\n",
        "    if not isinstance(skor, (int, float)):\n",
        "        return \"Error: Input harus berupa angka (int atau float)\"\n",
        "\n",
        "    # Percabangan penentuan predikat\n",
        "    if skor >= 85:\n",
        "        return \"A\"\n",
        "    elif skor >= 70:\n",
        "        return \"B\"\n",
        "    elif skor >= 60:\n",
        "        return \"C\"\n",
        "    elif skor >= 50:\n",
        "        return \"D\"\n",
        "    else:\n",
        "        return \"E\"\n",
        "\n",
        "\n",
        "# ===== Program utama =====\n",
        "try:\n",
        "    # Menerima input dari pengguna\n",
        "    nilai_input = float(input(\"Masukkan skor Anda (0–100): \"))\n",
        "\n",
        "    # Memanggil fungsi dan menampilkan hasil\n",
        "    hasil = tentukan_predikat(nilai_input)\n",
        "    print(f\"Skor {nilai_input} mendapat predikat: {hasil}\")\n",
        "\n",
        "except ValueError:\n",
        "    # Jika input tidak bisa dikonversi ke angka\n",
        "    print(\"Error: Anda harus memasukkan angka, bukan huruf atau simbol.\")"
      ],
      "metadata": {
        "colab": {
          "base_uri": "https://localhost:8080/"
        },
        "id": "adN7n8DhzphH",
        "outputId": "86725307-4a2e-476d-e0e4-557343b65735"
      },
      "execution_count": null,
      "outputs": [
        {
          "output_type": "stream",
          "name": "stdout",
          "text": [
            "Masukkan skor Anda (0–100): 95\n",
            "Skor 95.0 mendapat predikat: A\n"
          ]
        }
      ]
    },
    {
      "cell_type": "code",
      "source": [
        "# Modifikasi Sistem Penentuan Predikat Nilai dengan Validasi Tipe Data\n",
        "def tentukan_predikat(skor):\n",
        "    \"\"\"Menentukan predikat (A, B, C, D, E) berdasarkan skor.\"\"\"\n",
        "\n",
        "    # Modifikasi: pengecekan tipe data agar hanya menerima input numerik\n",
        "    if not isinstance(skor, (int, float)):\n",
        "        return \"Error: skor harus berupa angka (int atau float).\"\n",
        "\n",
        "    # Penentuan predikat berdasarkan rentang nilai\n",
        "    if skor >= 85:\n",
        "        return \"A\"\n",
        "    elif skor >= 70:\n",
        "        return \"B\"\n",
        "    elif skor >= 60:\n",
        "        return \"C\"\n",
        "    elif skor >= 50:\n",
        "        return \"D\"\n",
        "    else:\n",
        "        return \"E\"\n",
        "\n",
        "# Pemanggilan:\n",
        "print(f\"Skor 75 mendapat predikat: {tentukan_predikat(75)}\")\n",
        "print(f\"Skor 48 mendapat predikat: {tentukan_predikat(48)}\")\n",
        "print(f\"Skor 'lima puluh' mendapat predikat: {tentukan_predikat('lima puluh')}\")\n"
      ],
      "metadata": {
        "colab": {
          "base_uri": "https://localhost:8080/"
        },
        "id": "PvmEVd3D0i8M",
        "outputId": "97cce0aa-69df-4fc0-aa4e-49053d5902bc"
      },
      "execution_count": null,
      "outputs": [
        {
          "output_type": "stream",
          "name": "stdout",
          "text": [
            "Skor 75 mendapat predikat: B\n",
            "Skor 48 mendapat predikat: E\n",
            "Skor 'lima puluh' mendapat predikat: Error: skor harus berupa angka (int atau float).\n"
          ]
        }
      ]
    },
    {
      "cell_type": "code",
      "source": [
        "# SOAL 5: Menghitung Faktorial dengan Loop While\n",
        "def hitung_faktorial(n):\n",
        "    \"\"\"Menghitung faktorial dari bilangan positif n.\"\"\"\n",
        "    hasil = 1\n",
        "\n",
        "    # Perulangan berjalan selama n lebih besar dari 1\n",
        "    while n > 1:\n",
        "        hasil *= n\n",
        "        n -= 1  # Kurangi n\n",
        "    return hasil\n",
        "\n",
        "# Pemanggilan:\n",
        "bilangan_n = 4\n",
        "print(f\"Faktorial dari {bilangan_n} adalah: {hitung_faktorial(bilangan_n)}\")  # Output: 24"
      ],
      "metadata": {
        "colab": {
          "base_uri": "https://localhost:8080/"
        },
        "id": "BBvVHyhmt7Rw",
        "outputId": "a096bfad-69fa-403d-e940-b9975fc2890c"
      },
      "execution_count": null,
      "outputs": [
        {
          "output_type": "stream",
          "name": "stdout",
          "text": [
            "Faktorial dari 4 adalah: 24\n"
          ]
        }
      ]
    },
    {
      "cell_type": "code",
      "source": [
        "def hitung_faktorial(n):\n",
        "    \"\"\"Menghitung faktorial dari bilangan positif n dengan validasi input.\"\"\"\n",
        "\n",
        "    if n < 0:\n",
        "        return \"Error: Faktorial tidak terdefinisi untuk bilangan negatif!\"\n",
        "    elif n == 0:\n",
        "        return 1  # Secara matematis 0! = 1\n",
        "\n",
        "    hasil = 1\n",
        "\n",
        "    # Perulangan berjalan selama n lebih besar dari 1\n",
        "    while n > 1:\n",
        "        hasil *= n\n",
        "        n -= 1  # Kurangi n tiap langkah\n",
        "    return hasil\n",
        "\n",
        "# Pemanggilan contoh:\n",
        "bilangan_n = int(input(\"Masukkan bilangan bulat positif: \"))\n",
        "print(f\"Faktorial dari {bilangan_n} adalah: {hitung_faktorial(bilangan_n)}\")\n"
      ],
      "metadata": {
        "colab": {
          "base_uri": "https://localhost:8080/"
        },
        "id": "LeIeeyLevTRN",
        "outputId": "82a8ac3f-3f75-4790-9cf1-e0d853aa295f"
      },
      "execution_count": 4,
      "outputs": [
        {
          "output_type": "stream",
          "name": "stdout",
          "text": [
            "Masukkan bilangan bulat positif: 6\n",
            "Faktorial dari 6 adalah: 720\n"
          ]
        }
      ]
    },
    {
      "cell_type": "code",
      "source": [
        "# SOAL 6: Analisis Data Suhu Ekstrem (for dan if/elif)\n",
        "def analisis_suhu(data_suhu):\n",
        "    \"\"\"Menghitung jumlah hari Panas dan Dingin dari data_suhu.\"\"\"\n",
        "    panas_count = 0\n",
        "    dingin_count = 0   # inisialisasi penghitung hari dingin\n",
        "\n",
        "    for suhu in data_suhu:\n",
        "        if suhu >= 35:\n",
        "            panas_count += 1\n",
        "        elif suhu <= 15:   # percabangan untuk menghitung hari dingin\n",
        "            dingin_count += 1\n",
        "\n",
        "    return panas_count, dingin_count\n",
        "\n",
        "# Pemanggilan:\n",
        "suhu_mingguan = [36, 30, 14, 25, 38, 16, 28]\n",
        "jumlah_panas, jumlah_dingin = analisis_suhu(suhu_mingguan)\n",
        "print(f\"Jumlah hari Panas (>=35°C): {jumlah_panas}\")\n",
        "print(f\"Jumlah hari Dingin (<=15°C): {jumlah_dingin}\")\n"
      ],
      "metadata": {
        "colab": {
          "base_uri": "https://localhost:8080/"
        },
        "id": "8CCAR4djySo0",
        "outputId": "2f9b23eb-ce7c-4e16-e7fb-a01407ae8c2c"
      },
      "execution_count": null,
      "outputs": [
        {
          "output_type": "stream",
          "name": "stdout",
          "text": [
            "Jumlah hari Panas (>=35°C): 2\n",
            "Jumlah hari Dingin (<=15°C): 1\n"
          ]
        }
      ]
    },
    {
      "cell_type": "code",
      "source": [
        "# Modifikasi Analisis Data Suhu dengan Parameter Opsional\n",
        "def analisis_suhu(data_suhu, batas_panas=35, batas_dingin=15):\n",
        "    \"\"\"Menghitung jumlah hari Panas dan Dingin dari data_suhu dengan batas opsional.\"\"\"\n",
        "\n",
        "    # Inisialisasi penghitung\n",
        "    panas_count = 0\n",
        "    dingin_count = 0\n",
        "\n",
        "    # Perulangan untuk memeriksa setiap suhu\n",
        "    for suhu in data_suhu:\n",
        "        if suhu >= batas_panas:           # Hari panas\n",
        "            panas_count += 1\n",
        "        elif suhu <= batas_dingin:        # Hari dingin\n",
        "            dingin_count += 1\n",
        "\n",
        "    # Mengembalikan hasil perhitungan\n",
        "    return panas_count, dingin_count\n",
        "\n",
        "\n",
        "# Pemanggilan fungsi dengan data mingguan\n",
        "suhu_mingguan = [36, 30, 14, 25, 38, 16, 28]\n",
        "jumlah_panas, jumlah_dingin = analisis_suhu(suhu_mingguan)\n",
        "\n",
        "# Menampilkan hasil\n",
        "print(f\"Jumlah hari Panas (>=35°C): {jumlah_panas}\")\n",
        "print(f\"Jumlah hari Dingin (<=15°C): {jumlah_dingin}\")\n"
      ],
      "metadata": {
        "colab": {
          "base_uri": "https://localhost:8080/"
        },
        "id": "-e5WE2ERxS17",
        "outputId": "74a2a3bf-cc4f-481b-87b0-125620326e9a"
      },
      "execution_count": null,
      "outputs": [
        {
          "output_type": "stream",
          "name": "stdout",
          "text": [
            "Jumlah hari Panas (>=35°C): 2\n",
            "Jumlah hari Dingin (<=15°C): 1\n"
          ]
        }
      ]
    }
  ]
}