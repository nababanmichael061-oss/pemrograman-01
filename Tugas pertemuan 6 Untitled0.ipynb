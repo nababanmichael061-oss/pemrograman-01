{
  "nbformat": 4,
  "nbformat_minor": 0,
  "metadata": {
    "colab": {
      "provenance": [],
      "authorship_tag": "ABX9TyOlc6iX4TZXPNvEj/tAxhFL",
      "include_colab_link": true
    },
    "kernelspec": {
      "name": "python3",
      "display_name": "Python 3"
    },
    "language_info": {
      "name": "python"
    }
  },
  "cells": [
    {
      "cell_type": "markdown",
      "metadata": {
        "id": "view-in-github",
        "colab_type": "text"
      },
      "source": [
        "<a href=\"https://colab.research.google.com/github/nababanmichael061-oss/pemrograman-01/blob/main/Tugas%20pertemuan%206%20Untitled0.ipynb\" target=\"_parent\"><img src=\"https://colab.research.google.com/assets/colab-badge.svg\" alt=\"Open In Colab\"/></a>"
      ]
    },
    {
      "cell_type": "code",
      "source": [
        "def gudang_barang():\n",
        "    print(\"=== SISTEM MANAJEMEN GUDANG ===\")\n",
        "\n",
        "    # Tipe data non primitif\n",
        "    daftar_barang = {}  # Dictionary: nama barang dan jumlahnya\n",
        "    kategori = (\"mesincuci\", \"kulkas\", \"tv\", \"ac\")  # Tuple\n",
        "    nama_barang_set = set()  # Set untuk memastikan barang unik\n",
        "\n",
        "    while True:\n",
        "        print(\"\\nMenu Pilihan:\")\n",
        "        print(\"1. Tambah Barang\")\n",
        "        print(\"2. Lihat Barang\")\n",
        "        print(\"3. Hapus Barang\")\n",
        "        print(\"4. Keluar\")\n",
        "\n",
        "        pilihan = input(\"Pilih menu (1-4): \")\n",
        "\n",
        "        # Percabangan menu\n",
        "        if pilihan == \"1\":\n",
        "            nama = input(\"Masukkan nama barang: \").capitalize()\n",
        "            jumlah = int(input(\"Masukkan jumlah barang: \"))\n",
        "            nama_barang_set.add(nama)\n",
        "            daftar_barang[nama] = jumlah\n",
        "            print(f\"{nama} berhasil ditambahkan ke gudang!\")\n",
        "\n",
        "        elif pilihan == \"2\":\n",
        "            if len(daftar_barang) == 0:\n",
        "                print(\"Belum ada barang di gudang.\")\n",
        "            else:\n",
        "                print(\"\\n=== Daftar Barang ===\")\n",
        "                for nama, jumlah in daftar_barang.items():\n",
        "                    print(f\"{nama} : {jumlah} unit\")\n",
        "\n",
        "        elif pilihan == \"3\":\n",
        "            hapus = input(\"Masukkan nama barang yang ingin dihapus: \").capitalize()\n",
        "            if hapus in daftar_barang:\n",
        "                del daftar_barang[hapus]\n",
        "                nama_barang_set.discard(hapus)\n",
        "                print(f\"{hapus} telah dihapus dari gudang.\")\n",
        "            else:\n",
        "                print(\"Barang tidak ditemukan.\")\n",
        "\n",
        "        elif pilihan == \"4\":\n",
        "            print(\"Keluar dari program...\")\n",
        "            break\n",
        "        else:\n",
        "            print(\"Pilihan tidak valid, coba lagi!\")\n",
        "\n",
        "    # Ringkasan akhir\n",
        "    print(\"\\n=== RINGKASAN DATA GUDANG ===\")\n",
        "    print(\"Jumlah jenis barang:\", len(nama_barang_set))\n",
        "    print(\"Barang yang tersisa:\", nama_barang_set)\n",
        "    print(\"Kategori barang tersedia:\", kategori)\n",
        "\n",
        "    # Tipe data boolean\n",
        "    ada_barang = len(daftar_barang) > 0\n",
        "    print(\"Apakah masih ada barang di gudang?\", ada_barang)\n",
        "\n",
        "\n",
        "# Pemanggilan fungsi\n",
        "gudang_barang()\n"
      ],
      "metadata": {
        "colab": {
          "base_uri": "https://localhost:8080/"
        },
        "id": "0-EzirAwN1ZD",
        "outputId": "20575c12-d08e-4928-95ff-c5589657345e"
      },
      "execution_count": 13,
      "outputs": [
        {
          "output_type": "stream",
          "name": "stdout",
          "text": [
            "=== SISTEM MANAJEMEN GUDANG ===\n",
            "\n",
            "Menu Pilihan:\n",
            "1. Tambah Barang\n",
            "2. Lihat Barang\n",
            "3. Hapus Barang\n",
            "4. Keluar\n",
            "Pilih menu (1-4): 1\n",
            "Masukkan nama barang: tv\n",
            "Masukkan jumlah barang: 29\n",
            "Tv berhasil ditambahkan ke gudang!\n",
            "\n",
            "Menu Pilihan:\n",
            "1. Tambah Barang\n",
            "2. Lihat Barang\n",
            "3. Hapus Barang\n",
            "4. Keluar\n",
            "Pilih menu (1-4): 2\n",
            "\n",
            "=== Daftar Barang ===\n",
            "Tv : 29 unit\n",
            "\n",
            "Menu Pilihan:\n",
            "1. Tambah Barang\n",
            "2. Lihat Barang\n",
            "3. Hapus Barang\n",
            "4. Keluar\n",
            "Pilih menu (1-4): 3\n",
            "Masukkan nama barang yang ingin dihapus: laptop\n",
            "Barang tidak ditemukan.\n",
            "\n",
            "Menu Pilihan:\n",
            "1. Tambah Barang\n",
            "2. Lihat Barang\n",
            "3. Hapus Barang\n",
            "4. Keluar\n",
            "Pilih menu (1-4): 4\n",
            "Keluar dari program...\n",
            "\n",
            "=== RINGKASAN DATA GUDANG ===\n",
            "Jumlah jenis barang: 1\n",
            "Barang yang tersisa: {'Tv'}\n",
            "Kategori barang tersedia: ('mesincuci', 'kulkas', 'tv', 'ac')\n",
            "Apakah masih ada barang di gudang? True\n"
          ]
        }
      ]
    }
  ]
}