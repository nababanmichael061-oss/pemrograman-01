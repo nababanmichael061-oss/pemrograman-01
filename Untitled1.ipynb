{
  "nbformat": 4,
  "nbformat_minor": 0,
  "metadata": {
    "colab": {
      "provenance": [],
      "authorship_tag": "ABX9TyO8akOn8d6lEhZ/ahr4PK8Q",
      "include_colab_link": true
    },
    "kernelspec": {
      "name": "python3",
      "display_name": "Python 3"
    },
    "language_info": {
      "name": "python"
    }
  },
  "cells": [
    {
      "cell_type": "markdown",
      "metadata": {
        "id": "view-in-github",
        "colab_type": "text"
      },
      "source": [
        "<a href=\"https://colab.research.google.com/github/nababanmichael061-oss/pemrograman-01/blob/main/Untitled1.ipynb\" target=\"_parent\"><img src=\"https://colab.research.google.com/assets/colab-badge.svg\" alt=\"Open In Colab\"/></a>"
      ]
    },
    {
      "cell_type": "code",
      "execution_count": 9,
      "metadata": {
        "colab": {
          "base_uri": "https://localhost:8080/"
        },
        "id": "GMcX2w35_bDM",
        "outputId": "941586da-62c6-4558-9fdf-a5ffe8970b04"
      },
      "outputs": [
        {
          "output_type": "stream",
          "name": "stdout",
          "text": [
            "nama:michael rafael nababan\n",
            "umur:18\n",
            "jurusan:Pteknik elektro\n",
            "hobi:berenang\n",
            "status:mahasiswa\n",
            "universitas:politeknik negeri batam\n",
            "luas_persegi(sisi 4.5): 20.25\n"
          ]
        }
      ],
      "source": [
        "#variabel dengan annotation\n",
        "\n",
        "nama:str=\"michael rafael nababan\"\n",
        "umur:int=18\n",
        "jurusan:str=\"teknik elektro\"\n",
        "hobi:str=\"berenang\"\n",
        "status:str=\"mahasiswa\"\n",
        "universitas:str=\"politeknik negeri batam\"\n",
        "\n",
        "#fungsi annotation\n",
        "def luas_persegi(sisi:float) -> float:\n",
        "  \"\"\"menghitung luas persegi berdasarkan panjang sisi.:\"\"\"\n",
        "  return sisi * sisi\n",
        "\n",
        "\n",
        "#output\n",
        "print(f\"nama:{nama}\")\n",
        "print(f\"umur:{umur}\")\n",
        "print(f\"jurusan:P{jurusan}\")\n",
        "print(f\"hobi:{hobi}\")\n",
        "print(f\"status:{status}\")\n",
        "print(f\"universitas:{universitas}\")\n",
        "print(f\"luas_persegi(sisi 4.5): {luas_persegi(4.5)}\")\n"
      ]
    }
  ]
}