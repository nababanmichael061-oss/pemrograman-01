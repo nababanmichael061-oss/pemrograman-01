{
  "nbformat": 4,
  "nbformat_minor": 0,
  "metadata": {
    "colab": {
      "provenance": [],
      "authorship_tag": "ABX9TyOpX1cLIKq/v3yJZFtvKrBr",
      "include_colab_link": true
    },
    "kernelspec": {
      "name": "python3",
      "display_name": "Python 3"
    },
    "language_info": {
      "name": "python"
    }
  },
  "cells": [
    {
      "cell_type": "markdown",
      "metadata": {
        "id": "view-in-github",
        "colab_type": "text"
      },
      "source": [
        "<a href=\"https://colab.research.google.com/github/nababanmichael061-oss/pemrograman-01/blob/main/Praktikum%20pertemuan%20%204%20Untitled0.ipynb\" target=\"_parent\"><img src=\"https://colab.research.google.com/assets/colab-badge.svg\" alt=\"Open In Colab\"/></a>"
      ]
    },
    {
      "cell_type": "code",
      "execution_count": null,
      "metadata": {
        "colab": {
          "base_uri": "https://localhost:8080/"
        },
        "id": "7Oox0ZLyE_IO",
        "outputId": "67d3f14d-a7dc-44a0-dcb6-104f47ec2284"
      },
      "outputs": [
        {
          "output_type": "stream",
          "name": "stdout",
          "text": [
            "pengunjung adalah orang dewasa\n"
          ]
        }
      ],
      "source": [
        "#variabel  untuk menyimpan umur pengunjung\n",
        "umur : int = 20\n",
        "#program hanya akan mencetak pesan jika umur di atas 17\n",
        "if umur > 17:\n",
        "\n",
        "  print(\"pengunjung adalah orang dewasa\")"
      ]
    },
    {
      "cell_type": "code",
      "source": [
        "usarname = input(\"masukkan usarname: \")\n",
        "password = input(\"masukkan password: \")\n",
        "\n",
        "if usarname == \"michael\" and password == \"michael123\":\n",
        "  print(\"login berhasil\")\n",
        "else :\n",
        "  print(\"login gagal\")"
      ],
      "metadata": {
        "colab": {
          "base_uri": "https://localhost:8080/"
        },
        "id": "Tx7CXNyEKFHy",
        "outputId": "6ffc8a10-4a43-45d0-da34-9844acb4623d"
      },
      "execution_count": null,
      "outputs": [
        {
          "output_type": "stream",
          "name": "stdout",
          "text": [
            "masukkan usarname: michael\n",
            "masukkan password: michael123\n",
            "login berhasil\n"
          ]
        }
      ]
    },
    {
      "cell_type": "code",
      "source": [
        "#program untuk mengecek bonus dan diskon\n",
        "total_belanja = input(\"Total belanja: Rp \")\n",
        "#jumlah yang harus dibayar adalah berapa total belanjaannya\n",
        "#tapi kalau dapat diskon akan berkurang\n",
        "bayar = int(total_belanja)\n",
        "#jika dia belanja di atas 100rb maka berikan bonus dan diskon\n",
        "if int(total_belanja) > 100000:\n",
        "  print(\"selamat karena belanja > Rp. 100.000 anda dapat voucher makan\")\n",
        "  print(\"dan diskon 5%\")\n",
        "#hitung diskonnya\n",
        "diskon = int(total_belanja) * 5/100 #5%\n",
        "bayar = int(total_belanja) - diskon\n",
        "#cetak struk\n",
        "print(\"total yang harus dibayar: Rp %s\" % bayar)\n",
        "print(\"terima kasih sudah berbelanja di toko kami\")\n",
        "print(\"kami tunggu kunjungan anda selanjutnya.\")"
      ],
      "metadata": {
        "colab": {
          "base_uri": "https://localhost:8080/"
        },
        "id": "PVYtHycBKKsZ",
        "outputId": "814e7c9a-d9ea-413f-b94b-c072e411da92"
      },
      "execution_count": null,
      "outputs": [
        {
          "output_type": "stream",
          "name": "stdout",
          "text": [
            "Total belanja: Rp 250000\n",
            "selamat karena belanja > Rp. 100.000 anda dapat voucher makan\n",
            "dan diskon 5%\n",
            "total yang harus dibayar: Rp 237500.0\n",
            "terima kasih sudah berbelanja di toko kami\n",
            "kami tunggu kunjungan anda selanjutnya.\n"
          ]
        }
      ]
    },
    {
      "cell_type": "code",
      "source": [
        "#varibel untuk memeriksa apakah ada notifikasi baru\n",
        "ada_notifikasi_baru: bool = True\n",
        "\n",
        "\n",
        "if ada_notifikasi_baru:\n",
        "  print(\"anda memiliki pesan baru!\")"
      ],
      "metadata": {
        "colab": {
          "base_uri": "https://localhost:8080/"
        },
        "id": "FB57LE_HRkW0",
        "outputId": "f76a0c0b-859b-41e0-b380-316ed6beb0ad"
      },
      "execution_count": null,
      "outputs": [
        {
          "output_type": "stream",
          "name": "stdout",
          "text": [
            "anda memiliki pesan baru!\n"
          ]
        }
      ]
    },
    {
      "cell_type": "code",
      "source": [
        "umur = input(\"Berapa umur kamu: \")\n",
        "\n",
        "if int(umur) >= 18:\n",
        "  print(\"Kamu boleh membuat SIM\")\n",
        "\n",
        "else:\n",
        "  print(\"Kamu belum boleh membuat SIM\")"
      ],
      "metadata": {
        "colab": {
          "base_uri": "https://localhost:8080/"
        },
        "id": "m_Sv9qNeUF87",
        "outputId": "cc8243b4-ba8e-4308-91be-b5e11aeddc21"
      },
      "execution_count": null,
      "outputs": [
        {
          "output_type": "stream",
          "name": "stdout",
          "text": [
            "Berapa umur kamu: 18\n",
            "Kamu boleh membuat SIM\n"
          ]
        }
      ]
    },
    {
      "cell_type": "code",
      "source": [
        "#asumsikan total belanja di atas 20rb\n",
        "\n",
        "if int(total_belanja) > 200000:\n",
        "  diskon = int(total_belanja) * 0.10\n",
        "  total_bayar = int(total_belanja) - diskon\n",
        "  print(f\"Anda mendapat diskon! Total bayar: Rp {total_bayar}\")\n",
        "else:\n",
        "  print(f\"Total bayar: Rp {total_belanja}\")"
      ],
      "metadata": {
        "colab": {
          "base_uri": "https://localhost:8080/"
        },
        "id": "gg35prvZVMHa",
        "outputId": "94b04ef3-8026-46ab-9d4a-8c327824577d"
      },
      "execution_count": null,
      "outputs": [
        {
          "output_type": "stream",
          "name": "stdout",
          "text": [
            "Anda mendapat diskon! Total bayar: Rp 225000.0\n"
          ]
        }
      ]
    },
    {
      "cell_type": "code",
      "source": [
        "angka = int(input(\"masukkan bilangan: \"))\n",
        "\n",
        "if angka % 2 == 0:\n",
        "  print(\"Bilangan genap\")\n",
        "else:\n",
        "  print(\"Bilangan ganjil\")"
      ],
      "metadata": {
        "colab": {
          "base_uri": "https://localhost:8080/"
        },
        "id": "oizpPjeRXw7P",
        "outputId": "e73d79c8-e440-4454-d0da-87e4b0778dcc"
      },
      "execution_count": null,
      "outputs": [
        {
          "output_type": "stream",
          "name": "stdout",
          "text": [
            "masukkan bilangan: 1945\n",
            "Bilangan ganjil\n"
          ]
        }
      ]
    },
    {
      "cell_type": "code",
      "source": [
        "nilai = 80\n",
        "if nilai >= 85:\n",
        "  print(\"Luar biasa! Nilai A\")\n",
        "elif nilai >= 70:\n",
        "  print(\"Bagus! Nilai B\")\n",
        "elif nilai >= 60:\n",
        "  print(\"Cukup. Nilai C\")\n",
        "else:\n",
        "  print(\"Nilai kurang, perlu belajar lebih giat.\")"
      ],
      "metadata": {
        "colab": {
          "base_uri": "https://localhost:8080/"
        },
        "id": "KfuTTTJBYa3x",
        "outputId": "1b16b760-30ad-4f2b-8c71-370a7a36c9f7"
      },
      "execution_count": null,
      "outputs": [
        {
          "output_type": "stream",
          "name": "stdout",
          "text": [
            "Bagus! Nilai B\n"
          ]
        }
      ]
    },
    {
      "cell_type": "code",
      "source": [
        "#Menentukan jenis diskon berdasarkan hari\n",
        "hari: str = \"sabtu\"\n",
        "\n",
        "if hari == \"sabtu\" or hari == \"minggu\":\n",
        "  diskon: float = 0.20 # Diskon 20%\n",
        "  print(f\"Selamat! Anda mendapatkan diskon akhir pekan sebesar {diskon*100}%.\")\n",
        "elif hari == \"jumat\":\n",
        "  diskon: float = 0.15 # Diskon 15%\n",
        "  print (f\"Diskon spesial jumat! Anda mendapat potongan {diskon*100}%.\")\n",
        "else:\n",
        "  diskon: float = 0.05 # Diskon 5%\n",
        "  print(f\"Anda mendapat diskon hari biasa sebesar {diskon*100}%.\")"
      ],
      "metadata": {
        "colab": {
          "base_uri": "https://localhost:8080/"
        },
        "id": "Zbc5XqI4Z9xR",
        "outputId": "05c4f701-3302-4b72-9f32-87b066673b38"
      },
      "execution_count": null,
      "outputs": [
        {
          "output_type": "stream",
          "name": "stdout",
          "text": [
            "Selamat! Anda mendapatkan diskon akhir pekan sebesar 20.0%.\n"
          ]
        }
      ]
    },
    {
      "cell_type": "code",
      "source": [
        "rupiah = int(input(\"Masukkan jumlah uang (Rp): \"))\n",
        "print(\"1. Dollar (USD)\")\n",
        "print(\"2. Euro (EUR)\")\n",
        "print(\"3. Yen (JPY)\")\n",
        "\n",
        "pilih = int(input(\"Pilih mata uang (1/2/3): \"))\n",
        "\n",
        "if pilih == 1:\n",
        "  print(\"Dalam Dollar:\", rupiah / 15000)\n",
        "elif pilih == 2:\n",
        "  print(\"Dalam Euro:\", rupiah / 16000)\n",
        "elif pilih == 3:\n",
        "  print(\"Dalam Yen:\", rupiah / 120)\n",
        "else:\n",
        "  print(\"pilihan tidak valid\")"
      ],
      "metadata": {
        "colab": {
          "base_uri": "https://localhost:8080/"
        },
        "id": "WlsFKJMld2ZQ",
        "outputId": "74c54819-9257-4056-9171-af3c1929566a"
      },
      "execution_count": null,
      "outputs": [
        {
          "output_type": "stream",
          "name": "stdout",
          "text": [
            "Masukkan jumlah uang (Rp): 50000\n",
            "1. Dollar (USD)\n",
            "2. Euro (EUR)\n",
            "3. Yen (JPY)\n",
            "Pilih mata uang (1/2/3): 1\n",
            "Dalam Dollar: 3.3333333333333335\n"
          ]
        }
      ]
    }
  ]
}